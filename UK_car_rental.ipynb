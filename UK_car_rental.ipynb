{
 "cells": [
  {
   "cell_type": "markdown",
   "id": "6eba6c4d-4924-4c2c-a612-1749f77b9f3f",
   "metadata": {},
   "source": [
    "<h1 style = \"text-align: center; \">Descriptive Title</h1>\n",
    "<h2 style = \"text-align: center; \">ST445 - Managing and Visualizing Data</h2>\n",
    "<h3 style = \"text-align: center; \">Candidate IDs: 38682, XXXXX, YYYYY</h3>\n"
   ]
  },
  {
   "cell_type": "markdown",
   "id": "991d0cd6-41d5-411e-9b4b-77c036095efd",
   "metadata": {},
   "source": [
    "### I. Notebook preparation (maybe this section is not needed)"
   ]
  },
  {
   "cell_type": "markdown",
   "id": "5d924202-119e-4f3b-a3e9-86b75f4cf4db",
   "metadata": {},
   "source": [
    "Perhaps we include something similar to this example from \"Example 2\"\n",
    "\n",
    "[[Before running this notebook, please make sure you have all necessary modules installed in your environment. Potentially less common modules used include:\n",
    "\n",
    "google.cloud\n",
    "dotenv\n",
    "networkx\n",
    "geopandas\n",
    "praw\n",
    "transformers\n",
    "plotly.graph_objects\n",
    "ipywidgets\n",
    "folium\n",
    "As usual, they can be installed by running the command pip install [module] in the terminal.\n",
    "\n",
    "Furthermore, please make sure your Python version is compatible with all the modules. While writing this, it became apparent there might be some compatibility issues with newer Python versions (especially 3.11 and newer). In case you run into any issues, it might be worth trying to run the code with an older version such as Python 3.9.]]\n",
    "\n",
    "Our complete GitHub repository can be found at the following location: https://github.com/lse-st445/2024-project-data-knows-ball [[Should we put this in the title of our paper??]]"
   ]
  },
  {
   "cell_type": "code",
   "execution_count": 24,
   "id": "3ab781c0-3872-4e8b-be19-75cac3339c0b",
   "metadata": {},
   "outputs": [],
   "source": [
    "# Import relevant packages\n",
    "import requests\n",
    "from bs4 import BeautifulSoup\n",
    "import pandas as pd\n",
    "\n",
    "# Install lxml with conda install anaconda::lxml to use HMTL and XML with Python\n"
   ]
  },
  {
   "cell_type": "markdown",
   "id": "25976ea8-9e39-4992-a392-dcfa15bcaf01",
   "metadata": {},
   "source": [
    "### II. Introduction and data description"
   ]
  },
  {
   "cell_type": "markdown",
   "id": "0c356341-6578-4865-a830-245d6900b7cc",
   "metadata": {},
   "source": [
    "[[Describe our data sets and pose our research question]]\n",
    "\n",
    "[[Maybe include data dictionaries of some sort similar to Table 1.3.1 and Table 1.3.2 in \"Example 2\"]]"
   ]
  },
  {
   "cell_type": "markdown",
   "id": "87e41b65-18f2-4643-9555-b1f698c5c164",
   "metadata": {},
   "source": [
    "### III. Data acquisition"
   ]
  },
  {
   "cell_type": "code",
   "execution_count": 5,
   "id": "f1894046-b835-4bb2-952f-a6d1abeee430",
   "metadata": {},
   "outputs": [],
   "source": [
    "# API \n",
    "\n"
   ]
  },
  {
   "cell_type": "code",
   "execution_count": 9,
   "id": "4b00a888-7e6f-4273-b163-13e3713e3686",
   "metadata": {},
   "outputs": [],
   "source": [
    "# Webscrapping UK unemployment data\n",
    "url_uk_unemp = \"https://www.ons.gov.uk/employmentandlabourmarket/peoplenotinwork/unemployment/timeseries/mgsx/lms\"\n",
    "page = requests.get(url_uk_unemp)\n",
    "soup = BeautifulSoup(page.content, \"lxml\")\n"
   ]
  },
  {
   "cell_type": "code",
   "execution_count": 11,
   "id": "d08ef462-802f-4b69-950a-5b28e96ad5d3",
   "metadata": {},
   "outputs": [
    {
     "data": {
      "text/plain": [
       "['Period', 'Value']"
      ]
     },
     "execution_count": 11,
     "metadata": {},
     "output_type": "execute_result"
    }
   ],
   "source": [
    "table_headers = soup.find_all(\"th\")\n",
    "table_headers = table_headers[0:2] # We only need the first two columns of data\n",
    "table_headers = [t.text.replace(\"\\n\", \"\") for t in table_headers]\n",
    "table_headers\n"
   ]
  },
  {
   "cell_type": "code",
   "execution_count": 55,
   "id": "dacc3fe6-d274-4ecc-be57-a6fa7427847d",
   "metadata": {},
   "outputs": [],
   "source": [
    "unemp_data = []\n",
    "\n",
    "for i, row in enumerate(soup.find_all(\"tr\")[2:]): # The first two rows are header rows\n",
    "    try:\n",
    "        period, unemp_pct = row.find_all(\"td\")[0:2]\n",
    "        period = period.text\n",
    "        unemp_pct = unemp_pct.text\n",
    "        unemp_data.append([period, unemp_pct])\n",
    "    except:\n",
    "        print(\"Error parsing row #{}\".format(i))\n",
    "\n",
    "unemp_df = pd.DataFrame(unemp_data, columns = table_headers)\n"
   ]
  },
  {
   "cell_type": "code",
   "execution_count": 58,
   "id": "c50ec319-babd-42cb-b9a2-8e4930382a92",
   "metadata": {},
   "outputs": [
    {
     "name": "stdout",
     "output_type": "stream",
     "text": [
      "[53, 215, 644]\n",
      "912\n",
      "912\n"
     ]
    }
   ],
   "source": [
    "unemp_year_df = unemp_df[unemp_df[\"Period\"].str.len() == 4]\n",
    "# display(unemp_data_year_df)\n",
    "unemp_quarter_df = unemp_df[unemp_df[\"Period\"].str.len() == 7]\n",
    "# display(unemp_data_quarter_df)\n",
    "unemp_month_df = unemp_df[unemp_df[\"Period\"].str.len() == 8]\n",
    "# display(unemp_data_month_df)\n",
    "print([len(unemp_year_df), len(unemp_quarter_df), len(unemp_month_df)])\n",
    "test = [len(unemp_year_df), len(unemp_quarter_df), len(unemp_month_df)]\n",
    "print(sum(test))\n",
    "print(len(unemp_df))"
   ]
  },
  {
   "cell_type": "code",
   "execution_count": null,
   "id": "b73e7430-b170-402d-9ab1-721c7f1b91e4",
   "metadata": {},
   "outputs": [],
   "source": [
    "# Webscrapping UK CPIH data\n",
    "url_uk_cpih = \"https://www.ons.gov.uk/economy/inflationandpriceindices/timeseries/l55o/mm23\"\n"
   ]
  },
  {
   "cell_type": "markdown",
   "id": "e8d0fb56-5ba7-4f25-afa4-df17f1e86799",
   "metadata": {},
   "source": [
    "### IV. Data preparation"
   ]
  },
  {
   "cell_type": "code",
   "execution_count": 7,
   "id": "55bb0f79-3825-4034-be04-27360a6955f7",
   "metadata": {},
   "outputs": [],
   "source": [
    "# Clean and merge datasets\n",
    "\n"
   ]
  },
  {
   "cell_type": "markdown",
   "id": "280a9d01-0703-4251-b108-c4a8ae9601b2",
   "metadata": {},
   "source": [
    "### V. Visualizations"
   ]
  },
  {
   "cell_type": "markdown",
   "id": "749f89a6-87ef-48d3-9213-46f2fd3813a6",
   "metadata": {},
   "source": [
    "[[Description of what visualizations we decided to include and why]]"
   ]
  },
  {
   "cell_type": "code",
   "execution_count": 8,
   "id": "2189e31b-d035-4aa3-9d7c-b23607a1e96f",
   "metadata": {},
   "outputs": [],
   "source": [
    "# Code for visualizations\n",
    "\n"
   ]
  },
  {
   "cell_type": "markdown",
   "id": "dc481e82-e40a-452c-9beb-9be59b4445da",
   "metadata": {},
   "source": [
    "[[Explanation/interpretation of the visualizations are depicting]]"
   ]
  },
  {
   "cell_type": "markdown",
   "id": "827bc21b-107e-44fd-82f0-29a33415595b",
   "metadata": {},
   "source": [
    "### VI. Data modeling"
   ]
  },
  {
   "cell_type": "markdown",
   "id": "338f8b78-c8a2-41c7-b185-410741ebb525",
   "metadata": {},
   "source": [
    "### VII. Conclusion"
   ]
  },
  {
   "cell_type": "code",
   "execution_count": null,
   "id": "17dec5a6-42e8-437e-a2e3-54d242af6a04",
   "metadata": {},
   "outputs": [],
   "source": []
  }
 ],
 "metadata": {
  "kernelspec": {
   "display_name": "Python 3 (ipykernel)",
   "language": "python",
   "name": "python3"
  },
  "language_info": {
   "codemirror_mode": {
    "name": "ipython",
    "version": 3
   },
   "file_extension": ".py",
   "mimetype": "text/x-python",
   "name": "python",
   "nbconvert_exporter": "python",
   "pygments_lexer": "ipython3",
   "version": "3.12.6"
  }
 },
 "nbformat": 4,
 "nbformat_minor": 5
}
