{
 "cells": [
  {
   "cell_type": "markdown",
   "id": "6eba6c4d-4924-4c2c-a612-1749f77b9f3f",
   "metadata": {},
   "source": [
    "<h1 style = \"text-align: center; \">Descriptive Title</h1>\n",
    "<h2 style = \"text-align: center; \">ST445 - Managing and Visualizing Data</h2>\n",
    "<h3 style = \"text-align: center; \">Candidate IDs: 38682, XXXXX, YYYYY</h3>\n"
   ]
  },
  {
   "cell_type": "markdown",
   "id": "991d0cd6-41d5-411e-9b4b-77c036095efd",
   "metadata": {},
   "source": [
    "### I. Notebook preparation (maybe this section is not needed)"
   ]
  },
  {
   "cell_type": "markdown",
   "id": "5d924202-119e-4f3b-a3e9-86b75f4cf4db",
   "metadata": {},
   "source": [
    "Perhaps we include something similar to this example from \"Example 2\"\n",
    "\n",
    "[[Before running this notebook, please make sure you have all necessary modules installed in your environment. Potentially less common modules used include:\n",
    "\n",
    "google.cloud\n",
    "dotenv\n",
    "networkx\n",
    "geopandas\n",
    "praw\n",
    "transformers\n",
    "plotly.graph_objects\n",
    "ipywidgets\n",
    "folium\n",
    "As usual, they can be installed by running the command pip install [module] in the terminal.\n",
    "\n",
    "Furthermore, please make sure your Python version is compatible with all the modules. While writing this, it became apparent there might be some compatibility issues with newer Python versions (especially 3.11 and newer). In case you run into any issues, it might be worth trying to run the code with an older version such as Python 3.9.]]\n",
    "\n",
    "Our complete GitHub repository can be found at the following location: https://github.com/lse-st445/2024-project-data-knows-ball [[Should we put this in the title of our paper??]]"
   ]
  },
  {
   "cell_type": "code",
   "execution_count": 1,
   "id": "3ab781c0-3872-4e8b-be19-75cac3339c0b",
   "metadata": {},
   "outputs": [],
   "source": [
    "# Import relevant packages\n",
    "import requests\n",
    "from bs4 import BeautifulSoup\n",
    "import pandas as pd\n",
    "\n",
    "# Install lxml with conda install anaconda::lxml to use HMTL and XML with Python\n"
   ]
  },
  {
   "cell_type": "markdown",
   "id": "25976ea8-9e39-4992-a392-dcfa15bcaf01",
   "metadata": {},
   "source": [
    "### II. Introduction and data description"
   ]
  },
  {
   "cell_type": "markdown",
   "id": "0c356341-6578-4865-a830-245d6900b7cc",
   "metadata": {},
   "source": [
    "[[Describe our data sets and pose our research question]]\n",
    "\n",
    "[[Maybe include data dictionaries of some sort similar to Table 1.3.1 and Table 1.3.2 in \"Example 2\"]]"
   ]
  },
  {
   "cell_type": "markdown",
   "id": "87e41b65-18f2-4643-9555-b1f698c5c164",
   "metadata": {},
   "source": [
    "### III. Data acquisition"
   ]
  },
  {
   "cell_type": "markdown",
   "id": "b633420d-5e46-4d1f-927d-4ec746fcc7d4",
   "metadata": {},
   "source": [
    "#### III.i. Marketcheck UK API"
   ]
  },
  {
   "cell_type": "code",
   "execution_count": 5,
   "id": "f1894046-b835-4bb2-952f-a6d1abeee430",
   "metadata": {},
   "outputs": [],
   "source": [
    "# API \n",
    "\n"
   ]
  },
  {
   "cell_type": "markdown",
   "id": "53a99d94-2a62-4661-92a4-f981b889bbb6",
   "metadata": {},
   "source": [
    "#### III.ii. Webscrapping UK Office of National Statistics (ONS)"
   ]
  },
  {
   "cell_type": "code",
   "execution_count": 17,
   "id": "e25aaf25-97af-45fa-a3e0-11ed7d957874",
   "metadata": {},
   "outputs": [
    {
     "data": {
      "text/plain": [
       "'\\n\\nunemp_year_df = unemp_df[unemp_df[\"Period\"].str.len() == 4]\\n# display(unemp_year_df)\\nunemp_quarter_df = unemp_df[unemp_df[\"Period\"].str.len() == 7]\\n# display(unemp_quarter_df)\\nunemp_month_df = unemp_df[unemp_df[\"Period\"].str.len() == 8]\\n# display(unemp_month_df)\\nprint([len(unemp_year_df), len(unemp_quarter_df), len(unemp_month_df)])\\ntest = [len(unemp_year_df), len(unemp_quarter_df), len(unemp_month_df)]\\nprint(sum(test))\\nprint(len(unemp_df))\\n\\n'"
      ]
     },
     "execution_count": 17,
     "metadata": {},
     "output_type": "execute_result"
    }
   ],
   "source": [
    "# Write function for webscrapping data from the UK Office of National Statistics\n",
    "def webscrape_ONS(url):\n",
    "    '''\n",
    "    \n",
    "    '''\n",
    "\n",
    "    page = requests.get(url)\n",
    "    soup = BeautifulSoup(page.content, \"lxml\")\n",
    "\n",
    "    table_headers = soup.find_all(\"th\")\n",
    "    table_headers = table_headers[0:2] # We only need the first two columns of data from the ONS\n",
    "    table_headers = [t.text for t in table_headers]\n",
    "\n",
    "    ons_data = []\n",
    "\n",
    "    for i, row in enumerate(soup.find_all(\"tr\")[2:]): # The frist two rows of ONS tables are headers\n",
    "        try:\n",
    "            period, value = row.find_all(\"td\")[0:2] # We only need the first two columns of data from the ONS\n",
    "            ons_data.append([period.text, value.text])\n",
    "        except:\n",
    "            print(\"Error parsing row #{}\".format(i))\n",
    "\n",
    "    ons_df = pd.DataFrame(ons_data, columns = table_headers)\n",
    "\n",
    "    ons_year_df = ons_df[ons_df[\"Period\"].str.len() == 4]\n",
    "    ons_quarter_df = ons_df[ons_df[\"Period\"].str.len() == 7]\n",
    "    ons_month_df = ons_df[ons_df[\"Period\"].str.len() == 8]\n",
    "\n",
    "    split_df_len = [len(ons_year_df), len(ons_quarter_df), len(ons_month_df)]\n",
    "    total_split_df_len = sum(split_df_len)\n",
    "    orig_df_len = len(ons_data)\n",
    "\n",
    "    assert total_split_df_len == orig_df_len, \"ERROR: Not all rows from original ONS table are split into corresponding year/quarter/month dataframes\"\n",
    "\n",
    "    # return \n",
    "\n",
    "'''\n",
    "\n",
    "unemp_year_df = unemp_df[unemp_df[\"Period\"].str.len() == 4]\n",
    "# display(unemp_year_df)\n",
    "unemp_quarter_df = unemp_df[unemp_df[\"Period\"].str.len() == 7]\n",
    "# display(unemp_quarter_df)\n",
    "unemp_month_df = unemp_df[unemp_df[\"Period\"].str.len() == 8]\n",
    "# display(unemp_month_df)\n",
    "print([len(unemp_year_df), len(unemp_quarter_df), len(unemp_month_df)])\n",
    "test = [len(unemp_year_df), len(unemp_quarter_df), len(unemp_month_df)]\n",
    "print(sum(test))\n",
    "print(len(unemp_df))\n",
    "\n",
    "'''"
   ]
  },
  {
   "cell_type": "code",
   "execution_count": 19,
   "id": "775f5de9-3fd2-4334-984c-7ed07896f7dc",
   "metadata": {},
   "outputs": [
    {
     "name": "stdout",
     "output_type": "stream",
     "text": [
      "[35, 143, 431]\n",
      "609\n"
     ]
    }
   ],
   "source": [
    "url_uk_unemp = \"https://www.ons.gov.uk/employmentandlabourmarket/peoplenotinwork/unemployment/timeseries/mgsx/lms\"\n",
    "url_uk_cpih = \"https://www.ons.gov.uk/economy/inflationandpriceindices/timeseries/l55o/mm23\"\n",
    "\n",
    "webscrape_ONS(url_uk_cpih)"
   ]
  },
  {
   "cell_type": "code",
   "execution_count": 2,
   "id": "4b00a888-7e6f-4273-b163-13e3713e3686",
   "metadata": {},
   "outputs": [],
   "source": [
    "# Webscrapping UK unemployment data\n",
    "url_uk_unemp = \"https://www.ons.gov.uk/employmentandlabourmarket/peoplenotinwork/unemployment/timeseries/mgsx/lms\"\n",
    "page = requests.get(url_uk_unemp)\n",
    "soup = BeautifulSoup(page.content, \"lxml\")\n"
   ]
  },
  {
   "cell_type": "code",
   "execution_count": 6,
   "id": "d08ef462-802f-4b69-950a-5b28e96ad5d3",
   "metadata": {},
   "outputs": [
    {
     "data": {
      "text/plain": [
       "['Period', 'Value']"
      ]
     },
     "execution_count": 6,
     "metadata": {},
     "output_type": "execute_result"
    }
   ],
   "source": [
    "table_headers = soup.find_all(\"th\")\n",
    "table_headers = table_headers[0:2] # We only need the first two columns of data\n",
    "table_headers = [t.text for t in table_headers]\n",
    "table_headers\n"
   ]
  },
  {
   "cell_type": "code",
   "execution_count": 7,
   "id": "dacc3fe6-d274-4ecc-be57-a6fa7427847d",
   "metadata": {},
   "outputs": [],
   "source": [
    "unemp_data = []\n",
    "\n",
    "for i, row in enumerate(soup.find_all(\"tr\")[2:]): # The first two rows are header rows\n",
    "    try:\n",
    "        period, unemp_pct = row.find_all(\"td\")[0:2]\n",
    "        period = period.text\n",
    "        unemp_pct = unemp_pct.text\n",
    "        unemp_data.append([period, unemp_pct])\n",
    "    except:\n",
    "        print(\"Error parsing row #{}\".format(i))\n",
    "\n",
    "unemp_df = pd.DataFrame(unemp_data, columns = table_headers)\n"
   ]
  },
  {
   "cell_type": "code",
   "execution_count": 9,
   "id": "c50ec319-babd-42cb-b9a2-8e4930382a92",
   "metadata": {},
   "outputs": [
    {
     "name": "stdout",
     "output_type": "stream",
     "text": [
      "[53, 215, 644]\n",
      "912\n",
      "912\n"
     ]
    },
    {
     "data": {
      "text/html": [
       "<div>\n",
       "<style scoped>\n",
       "    .dataframe tbody tr th:only-of-type {\n",
       "        vertical-align: middle;\n",
       "    }\n",
       "\n",
       "    .dataframe tbody tr th {\n",
       "        vertical-align: top;\n",
       "    }\n",
       "\n",
       "    .dataframe thead th {\n",
       "        text-align: right;\n",
       "    }\n",
       "</style>\n",
       "<table border=\"1\" class=\"dataframe\">\n",
       "  <thead>\n",
       "    <tr style=\"text-align: right;\">\n",
       "      <th></th>\n",
       "      <th>Period</th>\n",
       "      <th>Value</th>\n",
       "    </tr>\n",
       "  </thead>\n",
       "  <tbody>\n",
       "    <tr>\n",
       "      <th>0</th>\n",
       "      <td>1971</td>\n",
       "      <td>4.1</td>\n",
       "    </tr>\n",
       "    <tr>\n",
       "      <th>1</th>\n",
       "      <td>1972</td>\n",
       "      <td>4.3</td>\n",
       "    </tr>\n",
       "    <tr>\n",
       "      <th>2</th>\n",
       "      <td>1973</td>\n",
       "      <td>3.7</td>\n",
       "    </tr>\n",
       "    <tr>\n",
       "      <th>3</th>\n",
       "      <td>1974</td>\n",
       "      <td>3.7</td>\n",
       "    </tr>\n",
       "    <tr>\n",
       "      <th>4</th>\n",
       "      <td>1975</td>\n",
       "      <td>4.5</td>\n",
       "    </tr>\n",
       "    <tr>\n",
       "      <th>5</th>\n",
       "      <td>1976</td>\n",
       "      <td>5.4</td>\n",
       "    </tr>\n",
       "    <tr>\n",
       "      <th>6</th>\n",
       "      <td>1977</td>\n",
       "      <td>5.6</td>\n",
       "    </tr>\n",
       "    <tr>\n",
       "      <th>7</th>\n",
       "      <td>1978</td>\n",
       "      <td>5.5</td>\n",
       "    </tr>\n",
       "    <tr>\n",
       "      <th>8</th>\n",
       "      <td>1979</td>\n",
       "      <td>5.4</td>\n",
       "    </tr>\n",
       "    <tr>\n",
       "      <th>9</th>\n",
       "      <td>1980</td>\n",
       "      <td>6.8</td>\n",
       "    </tr>\n",
       "    <tr>\n",
       "      <th>10</th>\n",
       "      <td>1981</td>\n",
       "      <td>9.6</td>\n",
       "    </tr>\n",
       "    <tr>\n",
       "      <th>11</th>\n",
       "      <td>1982</td>\n",
       "      <td>10.7</td>\n",
       "    </tr>\n",
       "    <tr>\n",
       "      <th>12</th>\n",
       "      <td>1983</td>\n",
       "      <td>11.5</td>\n",
       "    </tr>\n",
       "    <tr>\n",
       "      <th>13</th>\n",
       "      <td>1984</td>\n",
       "      <td>11.8</td>\n",
       "    </tr>\n",
       "    <tr>\n",
       "      <th>14</th>\n",
       "      <td>1985</td>\n",
       "      <td>11.4</td>\n",
       "    </tr>\n",
       "    <tr>\n",
       "      <th>15</th>\n",
       "      <td>1986</td>\n",
       "      <td>11.3</td>\n",
       "    </tr>\n",
       "    <tr>\n",
       "      <th>16</th>\n",
       "      <td>1987</td>\n",
       "      <td>10.4</td>\n",
       "    </tr>\n",
       "    <tr>\n",
       "      <th>17</th>\n",
       "      <td>1988</td>\n",
       "      <td>8.6</td>\n",
       "    </tr>\n",
       "    <tr>\n",
       "      <th>18</th>\n",
       "      <td>1989</td>\n",
       "      <td>7.2</td>\n",
       "    </tr>\n",
       "    <tr>\n",
       "      <th>19</th>\n",
       "      <td>1990</td>\n",
       "      <td>7.1</td>\n",
       "    </tr>\n",
       "    <tr>\n",
       "      <th>20</th>\n",
       "      <td>1991</td>\n",
       "      <td>8.9</td>\n",
       "    </tr>\n",
       "    <tr>\n",
       "      <th>21</th>\n",
       "      <td>1992</td>\n",
       "      <td>9.9</td>\n",
       "    </tr>\n",
       "    <tr>\n",
       "      <th>22</th>\n",
       "      <td>1993</td>\n",
       "      <td>10.4</td>\n",
       "    </tr>\n",
       "    <tr>\n",
       "      <th>23</th>\n",
       "      <td>1994</td>\n",
       "      <td>9.5</td>\n",
       "    </tr>\n",
       "    <tr>\n",
       "      <th>24</th>\n",
       "      <td>1995</td>\n",
       "      <td>8.6</td>\n",
       "    </tr>\n",
       "    <tr>\n",
       "      <th>25</th>\n",
       "      <td>1996</td>\n",
       "      <td>8.1</td>\n",
       "    </tr>\n",
       "    <tr>\n",
       "      <th>26</th>\n",
       "      <td>1997</td>\n",
       "      <td>6.9</td>\n",
       "    </tr>\n",
       "    <tr>\n",
       "      <th>27</th>\n",
       "      <td>1998</td>\n",
       "      <td>6.2</td>\n",
       "    </tr>\n",
       "    <tr>\n",
       "      <th>28</th>\n",
       "      <td>1999</td>\n",
       "      <td>6.0</td>\n",
       "    </tr>\n",
       "    <tr>\n",
       "      <th>29</th>\n",
       "      <td>2000</td>\n",
       "      <td>5.4</td>\n",
       "    </tr>\n",
       "    <tr>\n",
       "      <th>30</th>\n",
       "      <td>2001</td>\n",
       "      <td>5.1</td>\n",
       "    </tr>\n",
       "    <tr>\n",
       "      <th>31</th>\n",
       "      <td>2002</td>\n",
       "      <td>5.2</td>\n",
       "    </tr>\n",
       "    <tr>\n",
       "      <th>32</th>\n",
       "      <td>2003</td>\n",
       "      <td>5.0</td>\n",
       "    </tr>\n",
       "    <tr>\n",
       "      <th>33</th>\n",
       "      <td>2004</td>\n",
       "      <td>4.8</td>\n",
       "    </tr>\n",
       "    <tr>\n",
       "      <th>34</th>\n",
       "      <td>2005</td>\n",
       "      <td>4.8</td>\n",
       "    </tr>\n",
       "    <tr>\n",
       "      <th>35</th>\n",
       "      <td>2006</td>\n",
       "      <td>5.4</td>\n",
       "    </tr>\n",
       "    <tr>\n",
       "      <th>36</th>\n",
       "      <td>2007</td>\n",
       "      <td>5.3</td>\n",
       "    </tr>\n",
       "    <tr>\n",
       "      <th>37</th>\n",
       "      <td>2008</td>\n",
       "      <td>5.7</td>\n",
       "    </tr>\n",
       "    <tr>\n",
       "      <th>38</th>\n",
       "      <td>2009</td>\n",
       "      <td>7.6</td>\n",
       "    </tr>\n",
       "    <tr>\n",
       "      <th>39</th>\n",
       "      <td>2010</td>\n",
       "      <td>7.9</td>\n",
       "    </tr>\n",
       "    <tr>\n",
       "      <th>40</th>\n",
       "      <td>2011</td>\n",
       "      <td>8.1</td>\n",
       "    </tr>\n",
       "    <tr>\n",
       "      <th>41</th>\n",
       "      <td>2012</td>\n",
       "      <td>7.9</td>\n",
       "    </tr>\n",
       "    <tr>\n",
       "      <th>42</th>\n",
       "      <td>2013</td>\n",
       "      <td>7.6</td>\n",
       "    </tr>\n",
       "    <tr>\n",
       "      <th>43</th>\n",
       "      <td>2014</td>\n",
       "      <td>6.2</td>\n",
       "    </tr>\n",
       "    <tr>\n",
       "      <th>44</th>\n",
       "      <td>2015</td>\n",
       "      <td>5.4</td>\n",
       "    </tr>\n",
       "    <tr>\n",
       "      <th>45</th>\n",
       "      <td>2016</td>\n",
       "      <td>4.9</td>\n",
       "    </tr>\n",
       "    <tr>\n",
       "      <th>46</th>\n",
       "      <td>2017</td>\n",
       "      <td>4.4</td>\n",
       "    </tr>\n",
       "    <tr>\n",
       "      <th>47</th>\n",
       "      <td>2018</td>\n",
       "      <td>4.1</td>\n",
       "    </tr>\n",
       "    <tr>\n",
       "      <th>48</th>\n",
       "      <td>2019</td>\n",
       "      <td>3.8</td>\n",
       "    </tr>\n",
       "    <tr>\n",
       "      <th>49</th>\n",
       "      <td>2020</td>\n",
       "      <td>4.6</td>\n",
       "    </tr>\n",
       "    <tr>\n",
       "      <th>50</th>\n",
       "      <td>2021</td>\n",
       "      <td>4.6</td>\n",
       "    </tr>\n",
       "    <tr>\n",
       "      <th>51</th>\n",
       "      <td>2022</td>\n",
       "      <td>3.8</td>\n",
       "    </tr>\n",
       "    <tr>\n",
       "      <th>52</th>\n",
       "      <td>2023</td>\n",
       "      <td>4.1</td>\n",
       "    </tr>\n",
       "  </tbody>\n",
       "</table>\n",
       "</div>"
      ],
      "text/plain": [
       "   Period Value\n",
       "0    1971   4.1\n",
       "1    1972   4.3\n",
       "2    1973   3.7\n",
       "3    1974   3.7\n",
       "4    1975   4.5\n",
       "5    1976   5.4\n",
       "6    1977   5.6\n",
       "7    1978   5.5\n",
       "8    1979   5.4\n",
       "9    1980   6.8\n",
       "10   1981   9.6\n",
       "11   1982  10.7\n",
       "12   1983  11.5\n",
       "13   1984  11.8\n",
       "14   1985  11.4\n",
       "15   1986  11.3\n",
       "16   1987  10.4\n",
       "17   1988   8.6\n",
       "18   1989   7.2\n",
       "19   1990   7.1\n",
       "20   1991   8.9\n",
       "21   1992   9.9\n",
       "22   1993  10.4\n",
       "23   1994   9.5\n",
       "24   1995   8.6\n",
       "25   1996   8.1\n",
       "26   1997   6.9\n",
       "27   1998   6.2\n",
       "28   1999   6.0\n",
       "29   2000   5.4\n",
       "30   2001   5.1\n",
       "31   2002   5.2\n",
       "32   2003   5.0\n",
       "33   2004   4.8\n",
       "34   2005   4.8\n",
       "35   2006   5.4\n",
       "36   2007   5.3\n",
       "37   2008   5.7\n",
       "38   2009   7.6\n",
       "39   2010   7.9\n",
       "40   2011   8.1\n",
       "41   2012   7.9\n",
       "42   2013   7.6\n",
       "43   2014   6.2\n",
       "44   2015   5.4\n",
       "45   2016   4.9\n",
       "46   2017   4.4\n",
       "47   2018   4.1\n",
       "48   2019   3.8\n",
       "49   2020   4.6\n",
       "50   2021   4.6\n",
       "51   2022   3.8\n",
       "52   2023   4.1"
      ]
     },
     "metadata": {},
     "output_type": "display_data"
    }
   ],
   "source": [
    "unemp_year_df = unemp_df[unemp_df[\"Period\"].str.len() == 4]\n",
    "# display(unemp_year_df)\n",
    "unemp_quarter_df = unemp_df[unemp_df[\"Period\"].str.len() == 7]\n",
    "# display(unemp_quarter_df)\n",
    "unemp_month_df = unemp_df[unemp_df[\"Period\"].str.len() == 8]\n",
    "# display(unemp_month_df)\n",
    "print([len(unemp_year_df), len(unemp_quarter_df), len(unemp_month_df)])\n",
    "test = [len(unemp_year_df), len(unemp_quarter_df), len(unemp_month_df)]\n",
    "print(sum(test))\n",
    "print(len(unemp_df))\n",
    "\n",
    "### Add an assert that the split 3 DFs have the same number of rows as the entire orig df (check HW for assert package & syntax)\n",
    "### Make this scrapping & splitting of periodicity into a function to call for both unemp_pct & CPIH\n",
    "    ### Add a print command stating that the data has been split into 3 DFs -- and output the names of the DFs\n",
    "### Perhaps have a min/max value command to describe the data (i.e. unemp goes from 1971-2023, while CPIH goes from 1989-2023)\n"
   ]
  },
  {
   "cell_type": "code",
   "execution_count": 3,
   "id": "b73e7430-b170-402d-9ab1-721c7f1b91e4",
   "metadata": {},
   "outputs": [],
   "source": [
    "# Webscrapping UK CPIH data\n",
    "url_uk_cpih = \"https://www.ons.gov.uk/economy/inflationandpriceindices/timeseries/l55o/mm23\"\n",
    "page = requests.get(url_uk_cpih)\n",
    "soup = BeautifulSoup(page.content, \"lxml\")\n"
   ]
  },
  {
   "cell_type": "code",
   "execution_count": 4,
   "id": "2f3ce30a-6504-4a9c-9445-4470f8169d7f",
   "metadata": {},
   "outputs": [
    {
     "data": {
      "text/plain": [
       "['Period', 'Value']"
      ]
     },
     "execution_count": 4,
     "metadata": {},
     "output_type": "execute_result"
    }
   ],
   "source": [
    "table_headers = soup.find_all(\"th\")\n",
    "table_headers = table_headers[0:2] # We only need the first two columns of data\n",
    "table_headers = [t.text.replace(\"\\n\", \"\") for t in table_headers]\n",
    "table_headers\n"
   ]
  },
  {
   "cell_type": "code",
   "execution_count": 5,
   "id": "014f4ae1-6b2f-4c69-b8b5-42cccea0a1ee",
   "metadata": {},
   "outputs": [],
   "source": [
    "cpih_data = []\n",
    "\n",
    "for i, row in enumerate(soup.find_all(\"tr\")[2:]): # The first two rows are header rows\n",
    "    try:\n",
    "        period, cpih_rate = row.find_all(\"td\")[0:2]\n",
    "        period = period.text\n",
    "        cpih_rate = cpih_rate.text\n",
    "        cpih_data.append([period, cpih_rate])\n",
    "    except:\n",
    "        print(\"Error parsing row #{}\".format(i))\n",
    "\n",
    "cpih_df = pd.DataFrame(cpih_data, columns = table_headers)\n"
   ]
  },
  {
   "cell_type": "code",
   "execution_count": 6,
   "id": "e9adef8f-aaa8-49ec-a7d8-062cb905b18e",
   "metadata": {},
   "outputs": [
    {
     "data": {
      "text/html": [
       "<div>\n",
       "<style scoped>\n",
       "    .dataframe tbody tr th:only-of-type {\n",
       "        vertical-align: middle;\n",
       "    }\n",
       "\n",
       "    .dataframe tbody tr th {\n",
       "        vertical-align: top;\n",
       "    }\n",
       "\n",
       "    .dataframe thead th {\n",
       "        text-align: right;\n",
       "    }\n",
       "</style>\n",
       "<table border=\"1\" class=\"dataframe\">\n",
       "  <thead>\n",
       "    <tr style=\"text-align: right;\">\n",
       "      <th></th>\n",
       "      <th>Period</th>\n",
       "      <th>Value</th>\n",
       "    </tr>\n",
       "  </thead>\n",
       "  <tbody>\n",
       "    <tr>\n",
       "      <th>0</th>\n",
       "      <td>1989</td>\n",
       "      <td>5.7</td>\n",
       "    </tr>\n",
       "    <tr>\n",
       "      <th>1</th>\n",
       "      <td>1990</td>\n",
       "      <td>8.0</td>\n",
       "    </tr>\n",
       "    <tr>\n",
       "      <th>2</th>\n",
       "      <td>1991</td>\n",
       "      <td>7.5</td>\n",
       "    </tr>\n",
       "    <tr>\n",
       "      <th>3</th>\n",
       "      <td>1992</td>\n",
       "      <td>4.6</td>\n",
       "    </tr>\n",
       "    <tr>\n",
       "      <th>4</th>\n",
       "      <td>1993</td>\n",
       "      <td>2.6</td>\n",
       "    </tr>\n",
       "    <tr>\n",
       "      <th>...</th>\n",
       "      <td>...</td>\n",
       "      <td>...</td>\n",
       "    </tr>\n",
       "    <tr>\n",
       "      <th>604</th>\n",
       "      <td>2024 JUL</td>\n",
       "      <td>3.1</td>\n",
       "    </tr>\n",
       "    <tr>\n",
       "      <th>605</th>\n",
       "      <td>2024 AUG</td>\n",
       "      <td>3.1</td>\n",
       "    </tr>\n",
       "    <tr>\n",
       "      <th>606</th>\n",
       "      <td>2024 SEP</td>\n",
       "      <td>2.6</td>\n",
       "    </tr>\n",
       "    <tr>\n",
       "      <th>607</th>\n",
       "      <td>2024 OCT</td>\n",
       "      <td>3.2</td>\n",
       "    </tr>\n",
       "    <tr>\n",
       "      <th>608</th>\n",
       "      <td>2024 NOV</td>\n",
       "      <td>3.5</td>\n",
       "    </tr>\n",
       "  </tbody>\n",
       "</table>\n",
       "<p>609 rows × 2 columns</p>\n",
       "</div>"
      ],
      "text/plain": [
       "       Period Value\n",
       "0        1989   5.7\n",
       "1        1990   8.0\n",
       "2        1991   7.5\n",
       "3        1992   4.6\n",
       "4        1993   2.6\n",
       "..        ...   ...\n",
       "604  2024 JUL   3.1\n",
       "605  2024 AUG   3.1\n",
       "606  2024 SEP   2.6\n",
       "607  2024 OCT   3.2\n",
       "608  2024 NOV   3.5\n",
       "\n",
       "[609 rows x 2 columns]"
      ]
     },
     "metadata": {},
     "output_type": "display_data"
    }
   ],
   "source": [
    "display(cpih_df)"
   ]
  },
  {
   "cell_type": "code",
   "execution_count": 7,
   "id": "1a988699-7688-46b8-bafb-c479558884cd",
   "metadata": {},
   "outputs": [
    {
     "name": "stdout",
     "output_type": "stream",
     "text": [
      "[35, 143, 431]\n",
      "609\n",
      "609\n"
     ]
    }
   ],
   "source": [
    "cpih_year_df = cpih_df[cpih_df[\"Period\"].str.len() == 4]\n",
    "# display(cpih_year_df)\n",
    "cpih_quarter_df = cpih_df[cpih_df[\"Period\"].str.len() == 7]\n",
    "# display(cpih_quarter_df)\n",
    "cpih_month_df = cpih_df[cpih_df[\"Period\"].str.len() == 8]\n",
    "# display(cpih_month_df)\n",
    "print([len(cpih_year_df), len(cpih_quarter_df), len(cpih_month_df)])\n",
    "test = [len(cpih_year_df), len(cpih_quarter_df), len(cpih_month_df)]\n",
    "print(sum(test))\n",
    "print(len(cpih_df))\n"
   ]
  },
  {
   "cell_type": "markdown",
   "id": "e8d0fb56-5ba7-4f25-afa4-df17f1e86799",
   "metadata": {},
   "source": [
    "### IV. Data preparation"
   ]
  },
  {
   "cell_type": "code",
   "execution_count": 7,
   "id": "55bb0f79-3825-4034-be04-27360a6955f7",
   "metadata": {},
   "outputs": [],
   "source": [
    "# Clean and merge datasets\n",
    "\n"
   ]
  },
  {
   "cell_type": "markdown",
   "id": "280a9d01-0703-4251-b108-c4a8ae9601b2",
   "metadata": {},
   "source": [
    "### V. Visualizations"
   ]
  },
  {
   "cell_type": "markdown",
   "id": "749f89a6-87ef-48d3-9213-46f2fd3813a6",
   "metadata": {},
   "source": [
    "[[Description of what visualizations we decided to include and why]]"
   ]
  },
  {
   "cell_type": "code",
   "execution_count": 8,
   "id": "2189e31b-d035-4aa3-9d7c-b23607a1e96f",
   "metadata": {},
   "outputs": [],
   "source": [
    "# Code for visualizations\n",
    "\n"
   ]
  },
  {
   "cell_type": "markdown",
   "id": "dc481e82-e40a-452c-9beb-9be59b4445da",
   "metadata": {},
   "source": [
    "[[Explanation/interpretation of the visualizations are depicting]]"
   ]
  },
  {
   "cell_type": "markdown",
   "id": "827bc21b-107e-44fd-82f0-29a33415595b",
   "metadata": {},
   "source": [
    "### VI. Data modeling"
   ]
  },
  {
   "cell_type": "markdown",
   "id": "338f8b78-c8a2-41c7-b185-410741ebb525",
   "metadata": {},
   "source": [
    "### VII. Conclusion"
   ]
  },
  {
   "cell_type": "code",
   "execution_count": null,
   "id": "17dec5a6-42e8-437e-a2e3-54d242af6a04",
   "metadata": {},
   "outputs": [],
   "source": []
  }
 ],
 "metadata": {
  "kernelspec": {
   "display_name": "Python 3 (ipykernel)",
   "language": "python",
   "name": "python3"
  },
  "language_info": {
   "codemirror_mode": {
    "name": "ipython",
    "version": 3
   },
   "file_extension": ".py",
   "mimetype": "text/x-python",
   "name": "python",
   "nbconvert_exporter": "python",
   "pygments_lexer": "ipython3",
   "version": "3.12.6"
  }
 },
 "nbformat": 4,
 "nbformat_minor": 5
}
