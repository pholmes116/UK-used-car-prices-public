{
 "cells": [
  {
   "cell_type": "markdown",
   "id": "b5ae7391",
   "metadata": {},
   "source": [
    "<h1 style = \"text-align: center; \">What Influences a VW Golf Price?</h1>\n",
    "<h2 style = \"text-align: center; \">ST445 - Managing and Visualizing Data</h2>\n",
    "<h2 style = \"text-align: center; \">Candidate IDs: 38682, 50450, 44051</h3>\n"
   ]
  },
  {
   "cell_type": "markdown",
   "id": "7b29952d",
   "metadata": {},
   "source": [
    "![Volkswagen Golf](https://m.atcdn.co.uk/vms/media/w980/2fa3b55ab44d4744969f968b5727c8d2.jpg)"
   ]
  },
  {
   "cell_type": "markdown",
   "id": "fd611379",
   "metadata": {},
   "source": [
    "##### Overview\n",
    "##### I. Notebook Preparation\n",
    "##### II. Introduction and Data Description\n",
    "    a) Introduction & Research Question\n",
    "    b) Research Approach\n",
    "    c) Data Used\n",
    "##### III. Data Acquisition\n",
    "    a) ALL: UK Office of National Statistics (ONS)\n",
    "    b) SAMPLE: UK 100k Used Cars Data\n",
    "    c) GOLF: Environmental Factors of VW Golf CO2 Emissions\n",
    "##### IV. Data Visualization\n",
    "    a) ALL: UK Used Cars & Economic Influence\n",
    "    b) SAMPLE: UK Used Cars\n",
    "    c) GOLF: UK Used Cars & Environmental Factors\n",
    "##### V. Data Modeling\n",
    "    a) Model Linear Regression on Golf Car Data Variables\n",
    "##### VI. Conclusion"
   ]
  },
  {
   "cell_type": "markdown",
   "id": "5a68754e",
   "metadata": {},
   "source": [
    "## I. Notebook preparation"
   ]
  },
  {
   "cell_type": "code",
   "execution_count": null,
   "id": "914d55a9",
   "metadata": {},
   "outputs": [],
   "source": [
    "# Import relevant packages\n",
    "import requests\n",
    "from bs4 import BeautifulSoup\n",
    "import pandas as pd\n",
    "import json\n",
    "import numpy as np\n",
    "import os\n",
    "import zipfile\n",
    "import sqlite3\n",
    "from matplotlib import pyplot as plt\n",
    "import seaborn as sns\n",
    "from scipy.interpolate import make_interp_spline\n",
    "import warnings\n",
    "\n",
    "# Install lxml with conda install anaconda::lxml to use HMTL and XML with Python\n",
    "# conda install openpyxl"
   ]
  },
  {
   "cell_type": "markdown",
   "id": "370cc8f9",
   "metadata": {},
   "source": [
    "After importing all necessary libararies, we set the standard settings for the notebook regarding the plot sizes of visualising our data."
   ]
  },
  {
   "cell_type": "code",
   "execution_count": null,
   "id": "882871c0",
   "metadata": {},
   "outputs": [],
   "source": [
    "# Set the global default size of matplotlib figures\n",
    "plt.rc('figure', figsize=(10, 5))\n",
    "\n",
    "# Size of matplotlib figures that contain subplots\n",
    "fizsize_with_subplots = (10, 5)\n",
    "\n",
    "# Size of matplotlib histogram bins\n",
    "bin_size = 10"
   ]
  },
  {
   "cell_type": "markdown",
   "id": "77caa247",
   "metadata": {},
   "source": [
    "## II. Introduction and Data Description"
   ]
  },
  {
   "cell_type": "markdown",
   "id": "ba9ff32e-9c50-4470-a419-a59b95c103b8",
   "metadata": {},
   "source": [
    "### II. a) Introduction & Research Question"
   ]
  },
  {
   "cell_type": "markdown",
   "id": "e9ba7153-9558-48e6-a5ed-f367307e4607",
   "metadata": {},
   "source": [
    "A friend of ours approached us and wants to sell his old used car, being a VW Golf. He was excited about the Data Science programme at LSE and was convinced that we can leverage our Data Science skills to help him understand the UK used-car market better. (1) In general, he wants  to have more knowledge about what influences the UK used-car market overall. (2) Secondly it would be valuable for him to understand what car features overall are important when selling his car. (3) Seeing as though our friend has a VW Golf, it would be useful for us to shed light on which factors effect this specific segment of the market as well. Finally, he would like to have a rough estimate of a sales price.\n",
    "\n",
    "To address his request, we hypothesized that, alongside vehicle-specific attributes such as mileage or engine size, broader economic and environmental factors might play a significant role in shaping the UK used-car market. To validate this hypothesis and provide structured insights for our friend, we utilized several datasets and designed a comprehensive research approach."
   ]
  },
  {
   "cell_type": "markdown",
   "id": "10e420bf-29ee-4ffc-89d1-ed2b30f96f3a",
   "metadata": {},
   "source": [
    "### II. b) Research Approach"
   ]
  },
  {
   "attachments": {},
   "cell_type": "markdown",
   "id": "cf813f35",
   "metadata": {},
   "source": [
    "Therefore, we structured our research in the following way:\n",
    "1. ALL: UK Used-Car Market and Economic Factors\n",
    "\n",
    "To begin, we analyzed the overall trends in the UK used-car market to understand its development over the years. This high-level analysis aims to identify anomalies or irregularities over specific timeframes. Furthermore, by incorporating economic indicators for the UK, such as inflation rates or unemployment levels, we sought to uncover correlations or influences between these factors and the used-car market. This foundational analysis provides context for how external economic conditions shape market behavior.\n",
    "\n",
    "2. SAMPLE: Sample Analysis of the UK Used-Car Market\n",
    "\n",
    "Since it is impractical to analyze every used car sold in the UK, we utilized a representative sample of approximately 100,000 used cars to derive actionable insights. This dataset allowed us to investigate the relationships between car-specific features such as mileage, transmission type, fuel type, MPG, engine size, and price. By understanding these correlations, we identified key factors that are critical to consider when evaluating the value of a used car.\n",
    "\n",
    "3. GOLF: VW Golf and Environmental Factors\n",
    "\n",
    "Finally, we focused on the VW Golf segment, narrowing our scope to our friend’s specific car. Alongside the car-specific features analyzed in the broader market study, we incorporated emissions data to evaluate its impact on the pricing of a VW Golf. This analysis enabled us to identify additional factors that influence the valuation of this specific model. Using a linear regression model, we derived a data-driven estimation of the car's potential sales price. This final step combines insights from both high-level market trends and segment-specific characteristics to provide a precise recommendation."
   ]
  },
  {
   "cell_type": "markdown",
   "id": "1509b24d-bf70-433e-b445-78a374d695b2",
   "metadata": {},
   "source": [
    "### II. c) Data Used"
   ]
  },
  {
   "attachments": {},
   "cell_type": "markdown",
   "id": "71e28bb6-d492-4574-84c9-f83bfbfc4213",
   "metadata": {},
   "source": [
    "**1. ALL: UK Office of National Statistics (ONS)** <br>\n",
    "   The datasets used in this section were obtained from the United Kingdom's Office of National Statistics (ONS). They include data regarding the unemployment rate, CPIH annual rate, and the consumer price inflation detailed indices dating back over the previous decades for the UK.\n",
    "\n",
    "**2. SAMPLE: UK 100k Used Cars Data** <br>\n",
    "   This dataset is derived via an API from the data website Kaggle. It includes around 100k used cars in the UK which were websricped from various used cars marketplaces throughout the UK.\n",
    "\n",
    "**3. GOLF: Environmental Factors of VW Golf CO2 Emissions** <br>\n",
    "   This data contains the emissions data of different VW Golf generations from 2015-2020, which are extracted directly from VW emissions reporting in vehicle guides. "
   ]
  },
  {
   "cell_type": "markdown",
   "id": "304088d1",
   "metadata": {},
   "source": [
    "## III. Data Acquisition"
   ]
  },
  {
   "cell_type": "markdown",
   "id": "136d790d",
   "metadata": {},
   "source": [
    "### III. a) ALL: UK Office of National Statistics (ONS)"
   ]
  },
  {
   "cell_type": "markdown",
   "id": "fafc47dd",
   "metadata": {},
   "source": [
    "**Webscrapping: unemployment rate and CPIH (time series economic data)**"
   ]
  },
  {
   "cell_type": "code",
   "execution_count": null,
   "id": "b1253487",
   "metadata": {},
   "outputs": [],
   "source": [
    "# Write function for webscrapping data from the UK Office of National Statistics\n",
    "def webscrape_ONS(url):\n",
    "    '''\n",
    "    This function webscrapes various tables from the UK ONS and seperates the data \n",
    "    into distinct dataframes based on the given periodicity: year, quarter, or month.\n",
    "    ----------\n",
    "    Args:\n",
    "        url: The UK Office of National Statistics url from which to webscrabe the table\n",
    "    ----------\n",
    "    Returns:        \n",
    "        ons_year_df: Dataframe of UK ONS data at the yearly level\n",
    "        ons_quarter_df: Dataframe of UK ONS data at the quarterly level\n",
    "        ons_month_df: Dataframe of UK ONS data at the monthly level\n",
    "    '''\n",
    "    page = requests.get(url)\n",
    "    soup = BeautifulSoup(page.content, \"lxml\")\n",
    "\n",
    "    # Save the table headers to later set as column names for the dataframes\n",
    "    table_headers = soup.find_all(\"th\")\n",
    "    table_headers = table_headers[0:2] # We only need the first two columns of data from the ONS\n",
    "    table_headers = [t.text for t in table_headers]\n",
    "\n",
    "    ons_data = []\n",
    "\n",
    "    # Identify and append all webscrapped rows of the ONS table into a dataframe\n",
    "    for i, row in enumerate(soup.find_all(\"tr\")[2:]): # The frist two rows of ONS tables are headers\n",
    "        try:\n",
    "            period, value = row.find_all(\"td\")[0:2] # We only need the first two columns of data from the ONS\n",
    "            ons_data.append([period.text, value.text])\n",
    "        except:\n",
    "            print(\"Error parsing row #{}\".format(i))\n",
    "\n",
    "    ons_df = pd.DataFrame(ons_data, columns = table_headers)\n",
    "\n",
    "    # Make the \"Value\" column data type float instead of string as it was webscrapped\n",
    "    ons_df = ons_df.astype({\"Value\": float})\n",
    "\n",
    "    # Split the data into separate dataframes based on periodicity (year/quarter/month)\n",
    "    ons_year_df = ons_df[ons_df[\"Period\"].str.len() == 4].reset_index(drop = True) # Year periods will have 4 characters (e.g., \"2020\")\n",
    "    ons_quarter_df = ons_df[ons_df[\"Period\"].str.len() == 7].reset_index(drop = True) # Quarter periods will have 7 characters (e.g., \"2020 Q1\")\n",
    "    ons_month_df = ons_df[ons_df[\"Period\"].str.len() == 8].reset_index(drop = True) # Month periods will have 8 characters (e.g., \"2020 JAN\")\n",
    "\n",
    "    # For dataframes at the yearly level, make year an int type instead of string as it was webscrapped\n",
    "    ons_year_df = ons_year_df.astype({\"Period\": int})\n",
    "    \n",
    "    # Ensure that all rows present in the original ONS table are present in the three dataframes split based on periodicity\n",
    "    split_df_len = sum([len(ons_year_df), len(ons_quarter_df), len(ons_month_df)])\n",
    "    orig_df_len = len(ons_data)\n",
    "    assert split_df_len == orig_df_len, \"ERROR: Not all rows from original ONS table present in corresponding year/quarter/month dataframes\"\n",
    "\n",
    "    return ons_year_df, ons_quarter_df, ons_month_df\n"
   ]
  },
  {
   "cell_type": "code",
   "execution_count": null,
   "id": "ceabafe0",
   "metadata": {},
   "outputs": [],
   "source": [
    "# Webscrape UK unemployment and CPIH data tables from the ONS\n",
    "url_uk_unemp = \"https://www.ons.gov.uk/employmentandlabourmarket/peoplenotinwork/unemployment/timeseries/mgsx/lms\"\n",
    "url_uk_cpih = \"https://www.ons.gov.uk/economy/inflationandpriceindices/timeseries/l55o/mm23\"\n",
    "\n",
    "uk_unemp_year_df, uk_unemp_quarter_df, uk_unemp_month_df = webscrape_ONS(url_uk_unemp)\n",
    "uk_cpih_year_df, uk_cpih_quarter_df, uk_cpih_month_df = webscrape_ONS(url_uk_cpih)\n"
   ]
  },
  {
   "cell_type": "markdown",
   "id": "7054cedf-7bc4-4b25-8d82-8e49b96d1922",
   "metadata": {},
   "source": [
    "##### Importing XLSX: used car sales as a component of CPIH (time series economic data)"
   ]
  },
  {
   "cell_type": "code",
   "execution_count": null,
   "id": "aa80f3fe-b7d1-49ce-a441-f1ae5e6ce378",
   "metadata": {},
   "outputs": [],
   "source": [
    "# Import XLSX from the UK Office of National Statistics release: Consumer price inflation, UK: January 2024\n",
    "# Figure 9: CPIH Detailed indices annual averages: 2008 to 2024\n",
    "# NOTE: This XLSX is provided via download from the following ONS statistical releases\n",
    "# https://www.ons.gov.uk/releases/consumerpriceinflationukjanuary2024\n",
    "# https://www.ons.gov.uk/economy/inflationandpriceindices/datasets/consumerpriceinflation\n",
    "ons_detailed_cpih_indices = pd.read_excel(\"consumerpriceinflationdetailedreferencetables.xlsx\", skiprows = 5, sheet_name = \"Table 9\")\n"
   ]
  },
  {
   "cell_type": "code",
   "execution_count": null,
   "id": "7ea621aa-a1fb-4f7c-be3a-ee692992533a",
   "metadata": {},
   "outputs": [],
   "source": [
    "# Subset dataframe to columns and row of interest\n",
    "ons_detailed_cpih_indices_subset = ons_detailed_cpih_indices.iloc[:, 2:]\n",
    "ons_detailed_cpih_indices_subset.columns.values[0] = \"CPIH index\"\n",
    "ons_used_car_cpih_index = ons_detailed_cpih_indices_subset[ons_detailed_cpih_indices_subset[\"CPIH index\"].str.contains(\"Second hand cars\", na = False)].reset_index(drop = True)\n",
    "\n",
    "# Clean dataframe of used car CPIH index values and reshape long\n",
    "ons_used_car_cpih_index.loc[0, \"CPIH index\"] = \"Used car CPIH index\"\n",
    "used_car_cpih_long = pd.DataFrame(ons_used_car_cpih_index.stack()).reset_index()\n",
    "used_car_cpih_long.drop(columns = [\"level_0\"], inplace = True)\n",
    "used_car_cpih_long.drop(0, inplace = True)\n",
    "\n",
    "# Rename columns and make the year numeric\n",
    "uk_used_car_cpih_year = used_car_cpih_long.rename(columns = {\"level_1\": \"Period\", 0: \"Used car CPIH index\"})\n",
    "uk_used_car_cpih_year = uk_used_car_cpih_year.astype({\"Period\": int, \"Used car CPIH index\": float})\n",
    "\n",
    "# The other ONS datasets (overall CPIH and unemployment) values are in terms of rates\n",
    "# Therefore, calculate the year-over-year values of the used car CPIH index rate\n",
    "uk_used_car_cpih_year[\"Used car CPIH rate\"] = uk_used_car_cpih_year[\"Used car CPIH index\"].pct_change() * 100\n",
    "uk_used_car_cpih_rate_year = uk_used_car_cpih_year.drop(columns = [\"Used car CPIH index\"]).dropna().reset_index(drop = True)\n"
   ]
  },
  {
   "cell_type": "markdown",
   "id": "fa8bce9b-f6fb-4f4b-b5f0-149e979e0751",
   "metadata": {},
   "source": [
    "##### Combining ONS datasets"
   ]
  },
  {
   "cell_type": "code",
   "execution_count": null,
   "id": "4a887ff7-274e-40be-8540-9c555667ee20",
   "metadata": {},
   "outputs": [],
   "source": [
    "# The used car CPIH rate data that we have is at the yearly level (2009-2024)\n",
    "# We will merge it with the UK unemployment and overall CPIH at the yearly level that we webscrapped earlier\n",
    "\n",
    "# Rename fields in webscrapped ONS data for improved detail\n",
    "uk_unemp_year_df_to_merge = uk_unemp_year_df.rename(columns = {\"Value\": \"Unemployment rate\"})\n",
    "uk_cpih_year_df_to_merge = uk_cpih_year_df.rename(columns = {\"Value\": \"CPIH rate\"})\n",
    "\n",
    "# As the ONS unemployment rate data is from 1971-2023 and the ONS CPIH yearly rate data is from 1989-2024\n",
    "# While the ONS used car CPIH rate data is merely from 2009-2024, the merged dataframe of the three\n",
    "# will only contain values for the years of overlap (i.e., 2009-2023).\n",
    "ons_merged_data = uk_cpih_year_df_to_merge.merge(uk_unemp_year_df_to_merge, left_on = \"Period\", right_on = \"Period\")\n",
    "ons_merged_data = ons_merged_data.merge(uk_used_car_cpih_rate_year, left_on = \"Period\", right_on = \"Period\")\n"
   ]
  },
  {
   "cell_type": "raw",
   "id": "963a266d",
   "metadata": {},
   "source": [
    "Quote on what CPIH entails: https://moneyweek.com/economy/inflation/605602/cpi-inflation-vs-rpi-inflation#:~:text=CPIH%20is%20another%20related%20measure,and%20living%20in%20a%20home.\n",
    "\n",
    "\"CPIH is another related measure calculated by the ONS. It stands for the Consumer Prices Index including owner occupiers’ housing costs...\n",
    "CPIH is similar to CPI, but includes the costs of owning, maintaining and living in a home. This means it also shares characteristics with RPI. CPIH is the ONS's best measure of UK inflation given it captures more of the economy than the other two measures. However, given the UK housing system is different to that of any other nation, it is not internationally comparable.\"\n"
   ]
  },
  {
   "cell_type": "markdown",
   "id": "e475a8f5",
   "metadata": {},
   "source": [
    "Current datasets that we have:\n",
    "\n",
    "UK national unemployment data at the year (1971-2023), quarter (1971Q1-2023Q3), and month (1971FEB-2024SEP) level. <br>\n",
    "Webscrapped from UK Office of National Statistics: https://www.ons.gov.uk/employmentandlabourmarket/peoplenotinwork/unemployment/timeseries/mgsx/lms <br>\n",
    "**uk_unemp_year_df**, **uk_unemp_quarter_df**, **uk_unemp_month_df**\n",
    "\n",
    "UK national CPIH data at the year (1989-2024), quarter (1989Q1-2024Q4), and month (1989JAN-2024DEC) level. <br>\n",
    "Webscrapped from UK Office of National Statistics: https://www.ons.gov.uk/economy/inflationandpriceindices/timeseries/l55o/mm23 <br>\n",
    "**uk_cpih_year_df**, **uk_cpih_quarter_df**, **uk_cpih_month_df**\n"
   ]
  },
  {
   "cell_type": "markdown",
   "id": "36986fdf",
   "metadata": {},
   "source": [
    "### III. b) SAMPLE: UK 100k Used Cars Data"
   ]
  },
  {
   "cell_type": "markdown",
   "id": "c2b7f0b8",
   "metadata": {},
   "source": [
    "**Kaggle API for the data set \"100,000 UK Used Cars Data set\"**"
   ]
  },
  {
   "cell_type": "markdown",
   "id": "935a68aa",
   "metadata": {},
   "source": [
    "In the second part of our data acquisition, we are focusing on gathering as much used car data as possible for understanding the UK used cars landscape. After that, we can further focus on the VW Golf data as an example car which is one of the most used cars in the UK. \n",
    "\n",
    "A sample of the UK sued cars market would be a good estimator to understand the true size and dynamics of the UK used cars market. To acquire UK used cars data, the choice was to work with Kaggle. The given dataset provides around 100,000 UK used cars which were offered on used cars marketplaces. The dataset was constructued by webscraping tools and ultiamtely the dataset was published on Kaggle. In order to work with the data, we are using the Kaggle API to access the data. This initiated the proccess to download the relevant .csv files for our work with the UK used cars landscape. "
   ]
  },
  {
   "cell_type": "code",
   "execution_count": null,
   "id": "d2163014",
   "metadata": {},
   "outputs": [],
   "source": [
    "# Use Kaggle API to access the relevant dataset\n",
    "import kaggle\n",
    "\n",
    "# reading API key from txt file\n",
    "with open(\"st445_api_key.txt\", \"r\") as file:\n",
    "    api_key = file.read().strip()  # .strip() to remove extra newline/whitespace\n",
    "\n",
    "kaggle.api.authenticate()\n",
    "# kaggle.api.dataset_download_files(\"adityadesai13/used-car-dataset-ford-and-mercedes\", path=\".\", unzip=True)\n",
    "kaggle.api.dataset_download_files(f\"{api_key}\", path=\".\", unzip=True)"
   ]
  },
  {
   "cell_type": "markdown",
   "id": "234d63d0",
   "metadata": {},
   "source": [
    "In the following the data gathered from the Kaggle dataset was uploaded into the github repository from where we are loading it into seperate dataframes. Ultimately all cars data, which are seperated into the makes by .csv files, are merged alltogether into one large dataframe allowing us to perform EDA on the UK used cars landscape. "
   ]
  },
  {
   "cell_type": "code",
   "execution_count": null,
   "id": "c7027ffd",
   "metadata": {},
   "outputs": [],
   "source": [
    "# Load retrieved data into DataFrames and modify\n",
    "uk_cars_audi = pd.read_csv(\"audi.csv\")\n",
    "uk_cars_audi[\"Make\"] = \"Audi\"\n",
    "uk_cars_bmw = pd.read_csv(\"bmw.csv\") \n",
    "uk_cars_bmw[\"Make\"] = \"BMW\"\n",
    "uk_cars_ford = pd.read_csv(\"ford.csv\")\n",
    "uk_cars_ford[\"Make\"] = \"Ford\"\n",
    "uk_cars_hyundai = pd.read_csv(\"hyundi.csv\")\n",
    "uk_cars_hyundai[\"Make\"] = \"Hyundai\"\n",
    "uk_cars_mercedes = pd.read_csv(\"skoda.csv\")\n",
    "uk_cars_mercedes[\"Make\"] = \"Mercedes\"\n",
    "uk_cars_skoda = pd.read_csv(\"skoda.csv\")\n",
    "uk_cars_skoda[\"Make\"] = \"Skoda\"\n",
    "uk_cars_toyota = pd.read_csv(\"toyota.csv\")\n",
    "uk_cars_toyota[\"Make\"] = \"Toyota\"\n",
    "uk_cars_vauxhall = pd.read_csv(\"vauxhall.csv\")\n",
    "uk_cars_vauxhall[\"Make\"] = \"Vauxhall\"\n",
    "uk_cars_vw = pd.read_csv(\"vw.csv\")\n",
    "uk_cars_vw[\"Make\"] = \"VW\"\n",
    "\n",
    "# Merge to one DataFrame\n",
    "uk_cars_make = [uk_cars_audi, uk_cars_bmw, uk_cars_ford, \n",
    "                uk_cars_hyundai, uk_cars_mercedes, uk_cars_skoda, \n",
    "                uk_cars_toyota, uk_cars_vauxhall, uk_cars_vw]\n",
    "uk_cars_data = pd.concat(uk_cars_make)"
   ]
  },
  {
   "cell_type": "code",
   "execution_count": null,
   "id": "b33462aa",
   "metadata": {},
   "outputs": [],
   "source": [
    "display(uk_cars_data)"
   ]
  },
  {
   "cell_type": "markdown",
   "id": "87d97d6f",
   "metadata": {},
   "source": [
    "We do have to make some modifications and clean up to the main dataframe called uk_cars_data in order to be able to work with it further.\n",
    "\n",
    "1. We need to reset the indexes, since we have 92.335 cars and not approximately 15k (this is due to merging separate dataframes and their respective indexes)\n",
    "2. Some cars' road taxes are stated seperately in the column \"tax (£)\", altough all .csv files are formatted with the \"tax\" column. Thus we need to merge both, since the original \"tax\" column is stated in GBP £\n",
    "3. We want to add a column to know the respective Make in the main dataframe uk_cars_data (and moving it to the first column of the dataframe)\n",
    "4. We need a standardized price index for price/mileage to be able to compare the cars with different mileages"
   ]
  },
  {
   "cell_type": "code",
   "execution_count": null,
   "id": "027efb3d",
   "metadata": {},
   "outputs": [],
   "source": [
    "# 1. Modifying the indexes of the dataframe so we can work with it\n",
    "number_of_cars = len(uk_cars_data)\n",
    "new_indexes = list(range(0, number_of_cars))\n",
    "uk_cars_data = uk_cars_data.reset_index(drop=True)\n",
    "uk_cars_data = uk_cars_data.reindex(index=new_indexes)\n",
    "\n",
    "# 2. Adjusting the column Tax(£)\n",
    "if 'tax' not in uk_cars_data.columns:\n",
    "    uk_cars_data['tax'] = None\n",
    "uk_cars_data['tax'] = uk_cars_data['tax'].combine_first(uk_cars_data['tax(£)'])\n",
    "uk_cars_data = uk_cars_data.drop(columns='tax(£)')\n",
    "\n",
    "# 3. Make of the cars to the beginning of the dataframe\n",
    "columns_order = [\"Make\"] + [col for col in uk_cars_data.columns if col != \"Make\"]\n",
    "uk_cars_data = uk_cars_data[columns_order]\n",
    "\n",
    "# 4. Add another column with the comparison index price/mileage\n",
    "uk_cars_data[\"price/mileage\"] = uk_cars_data[\"price\"]/uk_cars_data[\"mileage\"]"
   ]
  },
  {
   "cell_type": "code",
   "execution_count": null,
   "id": "4719664b",
   "metadata": {},
   "outputs": [],
   "source": [
    "display(uk_cars_data)"
   ]
  },
  {
   "cell_type": "markdown",
   "id": "221c776c",
   "metadata": {},
   "source": [
    "**EDA of UK used cars data**\n",
    "\n",
    "Here we are performing explanatory data analysis to understand the UK used cars landscape better by looking into the dataframe more closely."
   ]
  },
  {
   "cell_type": "code",
   "execution_count": null,
   "id": "fa6b519b",
   "metadata": {},
   "outputs": [],
   "source": [
    "# 1. Generate Overview of the main dataframe\n",
    "uk_cars_data.info()"
   ]
  },
  {
   "cell_type": "markdown",
   "id": "c8fe236e-2637-4cba-b742-5d69cbf03de7",
   "metadata": {},
   "source": [
    "Here we can make the sanity check and see that all the columns do have the same length of non-null objects so we can continue working with the cleaned up data. Fruthermore it is necessary to understand each variables in detail."
   ]
  },
  {
   "cell_type": "raw",
   "id": "081c5a80",
   "metadata": {},
   "source": [
    "Explanation of the Variables:\n",
    "\n",
    "Make:           Car manufacturer/brand\n",
    "Model:          The model of the respective car\n",
    "Year:           First registration year of the car (we are assuming the first registration to be equal to the production year)\n",
    "Price:          Price (in GBP £) stated on UK used cars marketplaces\n",
    "Transmission:   Manual or automatic transmission of the car\n",
    "Mileage:        Mileage (in miles) the car has been driven so far\n",
    "fuelType:       Fuel the car is using\n",
    "tax:            Road tax (in GBP £) which has to be paid to be able to drive the car on public streets\n",
    "mpg:            Miles per gallon usage\n",
    "engineSize:     Size of engine in liter"
   ]
  },
  {
   "cell_type": "code",
   "execution_count": null,
   "id": "9b54610f",
   "metadata": {},
   "outputs": [],
   "source": [
    "# 2. Understand how many values we have per category\n",
    "unique_counts = uk_cars_data.nunique()\n",
    "print(unique_counts)"
   ]
  },
  {
   "cell_type": "markdown",
   "id": "dcb0c17f-bfad-4996-b03c-93691c707367",
   "metadata": {},
   "source": [
    "Now we can observe how many unique values per category there are. This enables us to draft an overview of the different shares per category in a more detailed EDA in the following section. "
   ]
  },
  {
   "cell_type": "markdown",
   "id": "5cb4b3f7-fc1e-4beb-b67e-575c56e5bd90",
   "metadata": {},
   "source": [
    "In order to be consistent when deriving insights about the different car makes, we want to stick to the same color palette when desciribing specific car makes so it is easier to compare different data charts and data visualisations."
   ]
  },
  {
   "cell_type": "code",
   "execution_count": null,
   "id": "56db938e",
   "metadata": {},
   "outputs": [],
   "source": [
    "# Create a list of unique car makes and corresponding colors\n",
    "unique_makes = uk_cars_data[\"Make\"].unique()\n",
    "palette = sns.color_palette(\"tab10\", n_colors=len(unique_makes))\n",
    "color_map = dict(zip(unique_makes, palette))"
   ]
  },
  {
   "cell_type": "code",
   "execution_count": null,
   "id": "15094a35",
   "metadata": {},
   "outputs": [],
   "source": [
    "# 3. Overview of car makes and models\n",
    "\n",
    "# Create a list of unique car makes\n",
    "unique_makes = uk_cars_data[\"Make\"].unique()\n",
    "\n",
    "# Count the occurrences of each make and top 10 models\n",
    "make_counts = uk_cars_data[\"Make\"].value_counts()\n",
    "model_counts = uk_cars_data[\"model\"].value_counts()\n",
    "top_10_models = model_counts.head(10)\n",
    "\n",
    "# Create subplots with 1 row and 2 columns\n",
    "fig, axes = plt.subplots(nrows=1, ncols=2, figsize=(16, 6))\n",
    "\n",
    "# Plot the pie chart in the first subplot\n",
    "axes[0].pie(make_counts, labels=make_counts.index, autopct='%1.1f%%', startangle=90, colors=[color_map[make] for make in make_counts.index])\n",
    "axes[0].set_title(\"Distribution of Car Makes\")\n",
    "\n",
    "# Plot the horizontal bar chart in the second subplot\n",
    "axes[1].barh(top_10_models.index, top_10_models.values, color=[color_map.get(make, \"gray\") for make in top_10_models.index])\n",
    "axes[1].set_xlabel(\"Count\")\n",
    "axes[1].set_ylabel(\"Model\")\n",
    "axes[1].set_title(\"Top 10 Most Common Car Models\")\n",
    "axes[1].invert_yaxis()\n",
    "\n",
    "plt.tight_layout()\n",
    "plt.show()\n"
   ]
  },
  {
   "cell_type": "markdown",
   "id": "c0865d80-4dec-4432-94f1-ec48f9198654",
   "metadata": {},
   "source": [
    "As shown in the pie plot and the bar plot, the most sold used car make is Ford followed by Volkswagen and Vauxhall. For the models, we can observe that the Ford Fiesta is the most sold used car followed by the VW Golf and the Ford Focus. This states that our friend indeed has a car to sell which is quite sought after and/or occurent in the market."
   ]
  },
  {
   "cell_type": "markdown",
   "id": "169fc6b5",
   "metadata": {},
   "source": [
    "### III. c) GOLF: Environmental Factors of VW Golf CO2 Emissions"
   ]
  },
  {
   "cell_type": "markdown",
   "id": "adbe831d-cdf0-4871-90e1-0ca13435dcff",
   "metadata": {},
   "source": [
    "**Manual data scrapping from PDF reports**"
   ]
  },
  {
   "attachments": {},
   "cell_type": "markdown",
   "id": "e6213af1",
   "metadata": {},
   "source": [
    "Finally, in order to explore the effects of emission performance in concert with economic indicators and car specification on used-car prices, we take Volkswagen's most common car in this dataset, the Golf, and gather the CO2 emissions data from Volkswagen catalogues on their Golf lines of cars from 2015-2020. This is done by gathering the PDFs published by Volkswagen themselves and manually retrieving the emissions levels for each kind, or setup, of car in the data set. These emissions levels are measured in grams per kilometer of carbon dioxide. This 'setup' is determined by four categorical variables: year of make, fuel type, transmission, and engine size. Due to limitations in the catalogues themselves, criteria such as fuel type are restricted to just 'Petrol' and 'Diesel', engine size to 1.0, 1.4, 1.5, 1.6, and 2.0 litres, and transmission to 'Manual' and 'Automatic'. "
   ]
  },
  {
   "cell_type": "code",
   "execution_count": null,
   "id": "d8ede690",
   "metadata": {},
   "outputs": [],
   "source": [
    "vw = pd.read_csv(\"vw.csv\")\n",
    "vw['model'] = vw['model'].str.strip()\n",
    "vw['fuelType'] = vw['fuelType'].str.strip()\n",
    "vw['transmission'] = vw['transmission'].str.strip()\n",
    "golf = vw[vw['model'] == 'Golf']\n",
    "\n",
    "display(golf)"
   ]
  },
  {
   "cell_type": "code",
   "execution_count": null,
   "id": "ff90a8b3",
   "metadata": {},
   "outputs": [],
   "source": [
    "warnings.filterwarnings(\"ignore\")\n",
    "def make_setup(row):\n",
    "    return str(row['year']) + \" \" + row['transmission'] + \" \" + row['fuelType'] + \" \" + str(row['engineSize'])\n",
    "#golf['setup'] = str(golf['year']) + row['fuelType'].str.strip() + str(row['engineSize'].str.strip())\n",
    "\n",
    "# Apply the custom function row-wise to concatenate\n",
    "golf['setup'] = golf.apply(make_setup, axis=1)\n"
   ]
  },
  {
   "cell_type": "code",
   "execution_count": null,
   "id": "0912c2e6",
   "metadata": {},
   "outputs": [],
   "source": [
    "# sort df by year\n",
    "golf = golf.sort_values(by='year')\n",
    "\n",
    "# just want 2015-2020\n",
    "golf = golf[golf['year'] > 2014]\n",
    "\n",
    "# dropping 'Other' and 'Hybrid' fuel types\n",
    "golf['fuelType'] = golf['fuelType'].str.strip()\n",
    "golf = golf[golf['fuelType'] != 'Other']\n",
    "golf = golf[golf['fuelType'] != 'Hybrid']\n"
   ]
  },
  {
   "cell_type": "code",
   "execution_count": null,
   "id": "4c5d4b70",
   "metadata": {},
   "outputs": [],
   "source": [
    "golf = golf[golf['engineSize'] != 0.0]\n",
    "\n",
    "# dropping semi-auto transmission\n",
    "golf = golf[golf['transmission'] != 'Semi-Auto']"
   ]
  },
  {
   "cell_type": "code",
   "execution_count": null,
   "id": "bc5ae0e1",
   "metadata": {},
   "outputs": [],
   "source": [
    "vw = pd.read_csv(\"vw.csv\")\n",
    "vw['model'] = vw['model'].str.strip()\n",
    "vw['fuelType'] = vw['fuelType'].str.strip()\n",
    "vw['transmission'] = vw['transmission'].str.strip()\n",
    "golf = vw[vw['model'] == 'Golf']\n",
    "display(golf)"
   ]
  },
  {
   "cell_type": "code",
   "execution_count": null,
   "id": "b4d94f80",
   "metadata": {},
   "outputs": [],
   "source": [
    "def make_setup(row):\n",
    "    return str(row['year']) + \" \" + row['transmission'] + \" \" + row['fuelType'] + \" \" + str(row['engineSize'])\n",
    "\n",
    "# apply above function\n",
    "golf['setup'] = golf.apply(make_setup, axis=1)\n"
   ]
  },
  {
   "cell_type": "code",
   "execution_count": null,
   "id": "e0112365",
   "metadata": {},
   "outputs": [],
   "source": [
    "# sort df by year\n",
    "golf = golf.sort_values(by='year')\n",
    "\n",
    "# just want 2015-2020\n",
    "golf = golf[golf['year'] > 2014]\n",
    "\n",
    "# dropping 'Other' and 'Hybrid' fuel types\n",
    "golf['fuelType'] = golf['fuelType'].str.strip()\n",
    "golf = golf[golf['fuelType'] != 'Other']\n",
    "golf = golf[golf['fuelType'] != 'Hybrid']\n",
    "\n",
    "# dropping 0L engines; not found in catalogues\n",
    "golf = golf[golf['engineSize'] != 0.0]\n",
    "\n",
    "# dropping semi-auto transmission\n",
    "golf = golf[golf['transmission'] != 'Semi-Auto']"
   ]
  },
  {
   "cell_type": "code",
   "execution_count": null,
   "id": "ab516c4c",
   "metadata": {},
   "outputs": [],
   "source": [
    "emissions_dict = {\n",
    "    '2015 Manual Petrol 2.0' : 139,\n",
    "    '2015 Manual Diesel 2.0' : 106,\n",
    "    '2015 Manual Petrol 1.4' : 120,\n",
    "    '2015 Manual Diesel 1.6' : 99,\n",
    "    '2015 Automatic Diesel 1.6' : 102,\n",
    "    '2015 Automatic Diesel 2.0' : 117,\n",
    "    '2015 Automatic Petrol 2.0' : 145,\n",
    "    '2015 Automatic Petrol 1.4' : 116,\n",
    "    '2015 Manual Petrol 1.2' : 113, \n",
    "    '2016 Automatic Diesel 1.6' : 102,\n",
    "    '2016 Manual Petrol 1.4' : 120, \n",
    "    '2016 Manual Diesel 2.0' : 109,\n",
    "    '2016 Manual Diesel 1.6' : 103,\n",
    "    '2016 Automatic Petrol 2.0' : 145,\n",
    "    '2016 Manual Petrol 2.0' : 148,\n",
    "    '2016 Automatic Diesel 2.0' : 117,\n",
    "    '2016 Automatic Petrol 1.4' : 120,\n",
    "    '2016 Manual Petrol 1.0' : 105,\n",
    "    '2016 Automatic Petrol 1.0' : 103, \n",
    "    '2016 Manual Petrol 1.2' : 113,\n",
    "    '2017 Manual Petrol 1.0' : 105,\n",
    "    '2017 Manual Diesel 1.6' : 105,\n",
    "    '2017 Manual Petrol 1.4' : 120, \n",
    "    '2017 Manual Petrol 2.0' : 162, \n",
    "    '2017 Automatic Petrol 1.4' : 116,\n",
    "    '2017 Manual Diesel 2.0' : 114, \n",
    "    '2017 Automatic Diesel 2.0' : 127,\n",
    "    '2017 Manual Petrol 1.2' : 113, \n",
    "    '2017 Automatic Petrol 2.0' : 160,\n",
    "    '2017 Automatic Diesel 1.6' : 104,\n",
    "    '2017 Automatic Petrol 1.0' : 103, \n",
    "    '2017 Automatic Diesel 1.4' : 102,\n",
    "    '2018 Manual Petrol 1.4' : 120,\n",
    "    '2018 Manual Petrol 2.0' : 148, \n",
    "    '2018 Automatic Petrol 2.0' : 148,\n",
    "    '2018 Manual Petrol 1.0' : 108, \n",
    "    '2018 Manual Diesel 1.6' : 106,\n",
    "    '2018 Manual Diesel 2.0' : 109, \n",
    "    '2018 Automatic Petrol 1.4' : 119,\n",
    "    '2018 Manual Petrol 1.5' : 110, \n",
    "    '2018 Automatic Diesel 2.0' : 114,\n",
    "    '2018 Automatic Petrol 1.5' : 110, \n",
    "    '2018 Automatic Diesel 1.6' : 102,\n",
    "    '2018 Automatic Petrol 1.0' : 108, \n",
    "    '2019 Manual Diesel 1.6' : 109,\n",
    "    '2019 Manual Petrol 1.5' : 130, \n",
    "    '2019 Automatic Petrol 1.5' : 130,\n",
    "    '2019 Manual Petrol 1.0' : 109,\n",
    "    '2019 Automatic Diesel 2.0' : 116,\n",
    "    '2019 Manual Diesel 2.0' : 115,\n",
    "    '2019 Automatic Diesel 1.6' : 104,\n",
    "    '2019 Automatic Petrol 1.0' : 110, \n",
    "    '2020 Manual Diesel 1.6' : 134,\n",
    "    '2020 Automatic Petrol 1.5' : 145, \n",
    "    '2020 Manual Petrol 1.5' : 135,\n",
    "    '2020 Automatic Diesel 2.0' : 142, \n",
    "    '2020 Manual Diesel 2.0' : 137, \n",
    "    '2020 Manual Petrol 1.0' : 115\n",
    "    }\n",
    "\n",
    "golf['CO2 Emissions'] = golf['setup'].map(emissions_dict).astype(\"float64\")"
   ]
  },
  {
   "cell_type": "code",
   "execution_count": null,
   "id": "0049a95f",
   "metadata": {},
   "outputs": [],
   "source": [
    "golf = golf.dropna()\n"
   ]
  },
  {
   "cell_type": "markdown",
   "id": "dead19da",
   "metadata": {},
   "source": [
    "## IV. Data Visualization"
   ]
  },
  {
   "cell_type": "markdown",
   "id": "a84f4164-08cb-4b36-adb7-93ab599ba474",
   "metadata": {},
   "source": [
    "### IV. a) ALL: UK Used Cars & Economic Influence"
   ]
  },
  {
   "cell_type": "code",
   "execution_count": null,
   "id": "557efc22-d568-43e9-8a6f-b97ff3932477",
   "metadata": {},
   "outputs": [],
   "source": [
    "# Plot the correlations between the economic factors\n",
    "# Select the non-year columns (i.e., the fields with economic data)\n",
    "ons_merged_data_no_year = ons_merged_data.drop(columns = [\"Period\"])\n",
    "\n",
    "# Create a matrix to store the correlations\n",
    "ons_corr = ons_merged_data_no_year.corr()\n",
    "\n",
    "# Plot the correlation matrix as a heatmap\n",
    "sns.heatmap(ons_corr, annot = True, cmap = \"coolwarm\")\n",
    "plt.title(\"ONS economic data matrix\")\n"
   ]
  },
  {
   "cell_type": "code",
   "execution_count": null,
   "id": "ef66cfb8-6a5b-448d-a4b3-04346ab01204",
   "metadata": {},
   "outputs": [],
   "source": [
    "# Graphing the combined ONS economic factors data\n",
    "fig, ax = plt.subplots()\n",
    "\n",
    "# Lineplots for UK unemployment rate, overall CPIH year-over-year (YoY) rate, and used car CPIH YoY rate from 2009-2023\n",
    "ax.plot(ons_merged_data[\"Period\"], ons_merged_data[\"Unemployment rate\"], label = \"Unemployment\")\n",
    "ax.plot(ons_merged_data[\"Period\"], ons_merged_data[\"CPIH rate\"], label = \"Total CPIH YoY\")\n",
    "ax.plot(ons_merged_data[\"Period\"], ons_merged_data[\"Used car CPIH rate\"], label = \"Used car CPIH YoY\")\n",
    "\n",
    "ax.axhline(0, linestyle = \"--\", color = \"black\") # Include line x = 0, to provide additional clarity for when rate becomes negative\n",
    "plt.xticks(range(2009, 2024)) # Ensure there is an x-axis \"tick\" mark for every year\n",
    "ax.axvspan(xmin = 2015, xmax = 2020, color = \"yellow\", alpha = 0.3, label= \"Years of interest\") # Specify the years of interest that we will examine in the future for the Volkswagen Golf prices\n",
    "\n",
    "plt.title(\"UK unemployment and CPIH rate\")\n",
    "ax.set_xlabel(\"Year\", fontsize = 12)\n",
    "ax.set_ylabel(\"Rate (%)\", fontsize = 12)\n",
    "\n",
    "ax.legend()\n",
    "plt.show()"
   ]
  },
  {
   "cell_type": "markdown",
   "id": "8c31898c-1b80-4434-9669-c60882a1e633",
   "metadata": {},
   "source": [
    "### IV. b) SAMPLE: UK Used Cars"
   ]
  },
  {
   "cell_type": "markdown",
   "id": "a2ac0587-7325-4561-833c-26a23f4d362f",
   "metadata": {},
   "source": [
    "#### IV. b) (i) Clustering into lower, mid, higher segment using price"
   ]
  },
  {
   "cell_type": "code",
   "execution_count": null,
   "id": "b65f9d1c-0ed4-4162-b3f8-2c9e2fbd31fb",
   "metadata": {},
   "outputs": [],
   "source": [
    "# Filtering by 2015 and 2020 car data\n",
    "uk_cars_data = uk_cars_data[(uk_cars_data[\"year\"] >= 2015) & (uk_cars_data[\"year\"] <= 2020)]"
   ]
  },
  {
   "cell_type": "code",
   "execution_count": null,
   "id": "42a2f6e3",
   "metadata": {},
   "outputs": [],
   "source": [
    "# Calculate mean prices for each make\n",
    "make_means = uk_cars_data.groupby(\"Make\")[\"price\"].mean()\n",
    "\n",
    "# Filter data for the makes in make_means\n",
    "filtered_data = uk_cars_data[uk_cars_data[\"Make\"].isin(make_means.index)]\n",
    "\n",
    "# Set up the figure and axes\n",
    "fig, axes = plt.subplots(2, 1, figsize=(12, 7), gridspec_kw={'height_ratios': [3, 1]})\n",
    "\n",
    "# First plot: KDE curves\n",
    "for make in make_means.index:\n",
    "    sns.kdeplot(data=filtered_data[filtered_data[\"Make\"] == make], x=\"price\", label=make, ax=axes[0], linewidth=2, color=color_map[make])\n",
    "axes[0].set_title(\"Price Distribution by Car Make\")\n",
    "axes[0].set_xlabel(\"Price in £\")\n",
    "axes[0].set_ylabel(\"Density\")\n",
    "axes[0].legend(title=\"Car Make\")\n",
    "axes[0].grid(alpha=0.3)\n",
    "axes[0].set_xlim((0, 80000))\n",
    "\n",
    "# Second plot: Mean prices on a single-dimensional line\n",
    "for make in make_means.index:\n",
    "    axes[1].scatter(make_means[make], 0, color=color_map[make], s=100, label=make)\n",
    "axes[1].set_yticks([])\n",
    "axes[1].set_xlim((0, 80000))\n",
    "axes[1].set_title(\"Mean Prices by Car Make\")\n",
    "axes[1].set_xlabel(\"Price in £\")\n",
    "axes[1].grid(alpha=0.3)\n",
    "\n",
    "# Annotate means with car make labels\n",
    "for make, mean in make_means.items():\n",
    "    axes[1].text(mean, 0.05, make, rotation=90, va='bottom', fontsize=10, color=color_map[make])\n",
    "\n",
    "plt.tight_layout()\n",
    "plt.show()"
   ]
  },
  {
   "cell_type": "markdown",
   "id": "d769a50a-b64b-454a-8d63-e73d064d13b6",
   "metadata": {},
   "source": [
    "In this chart we are able to observe the distribution of car prices per car make. Additionally, by plotting the individual car price means per car make onto a one-dimensional line we can form car price clusters. This process helps us to advise our friend which car makes are his immediate competition when selling the VW Golf."
   ]
  },
  {
   "cell_type": "markdown",
   "id": "3824f4a0-e75e-43e6-b5fa-22d67f097b61",
   "metadata": {},
   "source": [
    "#### IV. b) (ii) Define the segments and their corresponding makes"
   ]
  },
  {
   "cell_type": "code",
   "execution_count": null,
   "id": "a7e258dc",
   "metadata": {},
   "outputs": [],
   "source": [
    "# Define the segments and their corresponding makes\n",
    "segments = {\n",
    "    \"Lower Segment\": [\"Vauxhall\", \"Ford\", \"Toyota\", \"Hyundai\"],\n",
    "    \"Mid Segment\": [\"Skoda\", \"Mercedes\", \"VW\"],\n",
    "    \"Upper Segment\": [\"Audi\", \"BMW\"]\n",
    "}\n",
    "\n",
    "fig, axes = plt.subplots(1, 3, figsize=(18, 6), sharey=True)\n",
    "\n",
    "# Group data by 'Make' and calculate average mileage and price\n",
    "make_stats = uk_cars_data.groupby('Make')[['mileage', 'price']].mean().reset_index()\n",
    "\n",
    "# Plot for each segment\n",
    "for idx, (segment_name, makes) in enumerate(segments.items()):\n",
    "    segment_stats = make_stats[make_stats['Make'].isin(makes)]\n",
    "    x = np.arange(len(segment_stats['Make']))\n",
    "    width = 0.35\n",
    "    average_mileage = segment_stats['mileage']\n",
    "    average_price = segment_stats['price']\n",
    "    \n",
    "    # Plot bars for mileage and price\n",
    "    bars1 = axes[idx].bar(x - width/2, average_mileage, width, label='Average Mileage', color='skyblue', capsize=5)\n",
    "    bars2 = axes[idx].bar(x + width/2, average_price, width, label='Average Price', color='orange', capsize=5)\n",
    "\n",
    "    # Customize the subplot\n",
    "    for bar in bars1:\n",
    "        axes[idx].text(bar.get_x() + bar.get_width() / 2, bar.get_height(), f'{int(bar.get_height())}', ha='center', va='bottom', fontsize=9)\n",
    "    for bar in bars2:\n",
    "        axes[idx].text(bar.get_x() + bar.get_width() / 2, bar.get_height(), f'{int(bar.get_height())}', ha='center', va='bottom', fontsize=9)\n",
    "    axes[idx].set_title(segment_name)\n",
    "    axes[idx].set_xticks(x)\n",
    "    axes[idx].set_xticklabels(segment_stats['Make'], rotation=45, ha='right')\n",
    "    axes[idx].set_xlabel('Car Makes')\n",
    "    axes[idx].set_ylabel('Average Values' if idx == 0 else \"\")\n",
    "    axes[idx].legend(loc='upper right')\n",
    "\n",
    "plt.tight_layout()\n",
    "plt.show()"
   ]
  },
  {
   "cell_type": "markdown",
   "id": "73af14cc-29e6-45e2-95ba-2f23d1959dc0",
   "metadata": {},
   "source": [
    "By plotting the price clusters of the lower, mid, and upper segment we can compare the immediate competition when selling the VW Golf. Additionally, adding the mean mileage per car make helps to see how much the average car is used before selling it on the used car market. So comparing the average price and mileage per car make gives an indication of when it is best to sell a car according to the average car price and average car mileage given the car make."
   ]
  },
  {
   "attachments": {},
   "cell_type": "markdown",
   "id": "0be01489-f14b-4812-9b4a-6475b3efdcc2",
   "metadata": {},
   "source": [
    "#### IV. b) (iii) Distribution of Price/Mileage"
   ]
  },
  {
   "cell_type": "code",
   "execution_count": null,
   "id": "b6e0426e",
   "metadata": {},
   "outputs": [],
   "source": [
    "fig, axes = plt.subplots(nrows=1, ncols=2, figsize=(10, 4))\n",
    "\n",
    "# General histogram\n",
    "axes[0].hist(uk_cars_data[\"price/mileage\"], bins=1000, range=(0, 10), color='blue')\n",
    "axes[0].set_title(\"Price/Mileage Distribution (Range: 0 to 10)\")\n",
    "axes[0].set_xlabel(\"Price/Mileage\")\n",
    "axes[0].set_ylabel(\"Frequency\")\n",
    "\n",
    "# Zoomed-in histogram\n",
    "axes[1].hist(uk_cars_data[\"price/mileage\"], bins=1000, range=(0, 2), color='green')\n",
    "axes[1].set_title(\"Zoom in: Price/Mileage Distribution (Range: 0 to 2)\")\n",
    "axes[1].set_xlabel(\"Price/Mileage\")\n",
    "axes[1].set_ylabel(\"Frequency\")\n",
    "\n",
    "plt.tight_layout()\n",
    "plt.show()"
   ]
  },
  {
   "cell_type": "markdown",
   "id": "eb112b52-86a8-4fe6-9eaf-a4cb85c83938",
   "metadata": {},
   "source": [
    "When analyzing all used cars in the sample dataset, we observe the price-to-mileage index, which serves as a standardized metric to compare cars regardless of variations in their mileage and price. By examining the graph, we find that the majority of cars have a price-to-mileage index between 0 and 2. This range provides a useful benchmark for estimating a reasonable price interval for our friend’s car, based on the general trends observed in the sample of all used cars."
   ]
  },
  {
   "attachments": {},
   "cell_type": "markdown",
   "id": "c50e8d99",
   "metadata": {},
   "source": [
    "### IV. c) GOLF: UK Used Cars & Environmental Factors"
   ]
  },
  {
   "attachments": {},
   "cell_type": "markdown",
   "id": "95133f0a",
   "metadata": {},
   "source": [
    "#### IV. c) (i) Golf vs Other VW Models"
   ]
  },
  {
   "cell_type": "code",
   "execution_count": null,
   "id": "f6dda2b2",
   "metadata": {},
   "outputs": [],
   "source": [
    "# setting new column to classify entries as 'Golf' or 'Other' \n",
    "vw['golf_vs_other'] = vw['model'].str.strip().apply(lambda i: 'Other' if i != 'Golf' else i)"
   ]
  },
  {
   "cell_type": "code",
   "execution_count": null,
   "id": "9d4c1d24",
   "metadata": {},
   "outputs": [],
   "source": [
    "sns.violinplot(x='golf_vs_other', y='price', hue='golf_vs_other', data=vw, palette=\"Blues\", legend=False)\n",
    "plt.xlabel(\"Golf vs Other VW Models\")\n",
    "plt.ylabel(\"Price (£)\")\n",
    "\n",
    "vw['golf_vs_other'].value_counts()"
   ]
  },
  {
   "attachments": {},
   "cell_type": "markdown",
   "id": "4ac4de61",
   "metadata": {},
   "source": [
    "The code and plot above show a couple important takeaways: (1) that Golfs take up a meaningful proportion of all VWs sold, about 32%, and (2) that the distribution of used Golf's selling price is relatively representative of the broader market. This affirms the use the key covariates in used car sales to inform the instance of putting a VW Golf to market. \n"
   ]
  },
  {
   "attachments": {},
   "cell_type": "markdown",
   "id": "b06ed1a2",
   "metadata": {},
   "source": [
    "#### IV. c) (ii) Correlation Across Covariates  "
   ]
  },
  {
   "cell_type": "code",
   "execution_count": null,
   "id": "e2a0e406",
   "metadata": {},
   "outputs": [],
   "source": [
    "# Select only numeric columns\n",
    "golf_numr = golf.select_dtypes(include=['float64', 'int64']).copy()\n",
    "\n",
    "# Create a matrix to store the correlations\n",
    "golf_corr = pd.DataFrame(index=golf_numr.columns, columns=golf_numr.columns)\n",
    "\n",
    "# Calculate the correlations\n",
    "for i in range(len(golf_numr.columns)):\n",
    "    for j in range(len(golf_numr.columns)):\n",
    "        golf_corr.iloc[i, j] = golf_numr.iloc[:, i].corr(golf_numr.iloc[:, j])\n",
    "\n",
    "# Convert to numeric\n",
    "golf_corr = golf_corr.apply(pd.to_numeric, errors='coerce')\n",
    "\n",
    "# Plot the correlation matrix as a heatmap\n",
    "plt.figure(figsize=(12, 6))\n",
    "sns.heatmap(golf_corr, annot=True, cmap='coolwarm', fmt=\".2f\")\n",
    "plt.title('Correlation Matrix')\n",
    "plt.show()"
   ]
  },
  {
   "cell_type": "markdown",
   "id": "eb7bc20f-ed77-4530-a895-bebbb603bed3",
   "metadata": {},
   "source": [
    "This chart helps us understanding which factors influence/correlate the most with the price of a VW Golf. Thus we are focusing on the row/column of the price and watch the largest absolute values. \n",
    "\n",
    "**Positive correlations**: The price of a VW Golf will increase most with the road tax of the car, followed closely by the year of the car as well as the CO2 emissions of the car. \n",
    "\n",
    "**Negative correlations**: If the VW Golf tends to have a high mileage and high mpg, the price will consequently be negatively influenced and therefore decrease. "
   ]
  },
  {
   "attachments": {},
   "cell_type": "markdown",
   "id": "43e2f5ba",
   "metadata": {},
   "source": [
    "#### IV. c) (iii) Analyzing Emissions Data"
   ]
  },
  {
   "cell_type": "code",
   "execution_count": null,
   "id": "0938d105",
   "metadata": {},
   "outputs": [],
   "source": [
    "golf['bucket'] = pd.cut(golf['price'], \n",
    "                        bins=range(min(golf['price']), max(golf['price']), 1000), \n",
    "                        right=False, \n",
    "                        labels=[i/1000 for i in range(min(golf['price']), max(golf['price']) - 1000, 1000)])\n",
    "golf = golf.dropna()"
   ]
  },
  {
   "cell_type": "code",
   "execution_count": null,
   "id": "e6ef2319",
   "metadata": {},
   "outputs": [],
   "source": [
    "fig, ax1 = plt.subplots()\n",
    "\n",
    "sns.lineplot(x='bucket', y='CO2 Emissions', data=golf, label='Car Price', color='maroon')\n",
    "ax1.set_xlabel('Car Price (Thousands of £)')\n",
    "ax1.set_ylabel('CO2 Emissions (g/km)')\n",
    "ax1.tick_params(axis='y')\n",
    "ax1.legend(loc = 'lower left')\n",
    "\n",
    "ax2 = ax1.twinx()\n",
    "\n",
    "sns.lineplot(x='bucket', y='mileage', data=golf, label='Mileage', color=\"navy\")\n",
    "ax2.set_ylabel('Mileage (mi)')\n",
    "ax2.tick_params(axis='y')\n",
    "ax2.legend(loc = 'upper left')\n",
    "ax2.hist(golf['bucket'], alpha=.5, density=True)\n",
    "\n",
    "\n",
    "plt.title(\"Exploring Car Year of Make and Emissions' Relationship with Price\")\n",
    "plt.show()\n"
   ]
  },
  {
   "attachments": {},
   "cell_type": "markdown",
   "id": "e2c2e54f",
   "metadata": {},
   "source": [
    "The above plot shows both CO2 emissions levels and odometer mileage against sale price the VW Golf dataset. The key takeaways are that mileage exhibits a strong negative and weakly exponential relationship with car price, and that CO2 emissions exhibits a strong positive relationship against price, with outlier behavior having strong influence at the higher end of the price scale, starting at around £25,000. This allows for someone selling their Golf to see what most Golf's in the same situation may be selling for, or at the very least being listed for. \n"
   ]
  },
  {
   "cell_type": "markdown",
   "id": "75b3ab15",
   "metadata": {},
   "source": [
    "## V. Data Modeling"
   ]
  },
  {
   "cell_type": "markdown",
   "id": "d228b01b",
   "metadata": {},
   "source": [
    "#### V. a) Model Linear Regression on Golf Car Data Variables"
   ]
  },
  {
   "cell_type": "code",
   "execution_count": null,
   "id": "4678c68f",
   "metadata": {},
   "outputs": [],
   "source": [
    "import statsmodels.api as sm\n",
    "\n",
    "# Define the predictor variable (price) and independent variables (others)\n",
    "X = golf_numr.drop(columns=['price'])\n",
    "y = golf_numr['price']\n",
    "\n",
    "# Add a constant term to the independent variables (for the intercept)\n",
    "X = sm.add_constant(X)\n",
    "\n",
    "# Fit the linear regression model using statsmodels\n",
    "model = sm.OLS(y, X).fit()\n",
    "\n",
    "# Generate the summary\n",
    "print(model.summary())\n"
   ]
  },
  {
   "cell_type": "markdown",
   "id": "df0881c7-6ffd-4f61-9f39-8744513b90a6",
   "metadata": {},
   "source": [
    "The results of our linear regression provide a reasonably robust model to estimate the price of our friend's VW Golf. The R-squared value indicates that 81.1% of the total variation in car price can be explained by the features included in the model, while the remaining variation is captured in the residual errors. All the regressors, except for the \"tax\" variable, are statistically significant and should be included in the model. The \"tax\" variable, however, does not have sufficient statistical evidence to reject the null hypothesis that its coefficient is equal to zero and should therefore be excluded from the model."
   ]
  },
  {
   "cell_type": "code",
   "execution_count": null,
   "id": "7abe6089-010d-41bc-8378-0f86ed55c037",
   "metadata": {},
   "outputs": [],
   "source": [
    "# Drop the \"tax\" variable from the independent variables\n",
    "X = golf_numr.drop(columns=['price', 'tax'])\n",
    "\n",
    "# Add a constant term to the independent variables (for the intercept)\n",
    "X = sm.add_constant(X)\n",
    "\n",
    "# Fit the linear regression model again without the \"tax\" variable\n",
    "model2 = sm.OLS(y, X).fit()\n",
    "\n",
    "# Generate the summary\n",
    "print(model2.summary())\n"
   ]
  },
  {
   "cell_type": "markdown",
   "id": "895e83fc-df04-4959-9bce-268b0e38dfc6",
   "metadata": {},
   "source": [
    "Since the R-squared value stayed at 81.1% we see that removing the \"tax\" regressor did not increase the residual sum of squares, thus reinforcing the fact that \"tax\" should be removed from the model."
   ]
  },
  {
   "cell_type": "markdown",
   "id": "4a19455d-b33d-4a99-89eb-0b3a394fe114",
   "metadata": {},
   "source": [
    "### V. b) Predicted price for our friend's VW Golf"
   ]
  },
  {
   "cell_type": "raw",
   "id": "b10c02c1-af85-4544-bde1-dfd604a4d9ac",
   "metadata": {},
   "source": [
    "Our friend provided us with the car stats of his VW Golf, being a VW Golf 2018 Manual Petrol 2.0: \n",
    "\n",
    "Year: 2018\n",
    "Mileage: 60,000\n",
    "mpg: 40.4\n",
    "enginesize: 2.0\n",
    "CO2 emissions: 148"
   ]
  },
  {
   "cell_type": "code",
   "execution_count": null,
   "id": "732af4bc-4862-4cbd-87f1-9aa03a8f3b21",
   "metadata": {},
   "outputs": [],
   "source": [
    "# predict a sales price for our friend\n",
    "\n",
    "X_friend = pd.DataFrame({\n",
    "    'const': [1],\n",
    "    'year': [2018],\n",
    "    'mileage': [60000],\n",
    "    'mpg': [40.4],\n",
    "    'engineSize': [2.0],\n",
    "    'emissions': [148]\n",
    "})\n",
    "\n",
    "sales_price = model2.predict(X_friend)\n",
    "print(f\"The estimated sales price for our friend's VW Golf is £{sales_price[0]:.2f}\")"
   ]
  },
  {
   "cell_type": "markdown",
   "id": "033ade62",
   "metadata": {},
   "source": [
    "## VI. Conclusion"
   ]
  },
  {
   "attachments": {},
   "cell_type": "markdown",
   "id": "fd874e23",
   "metadata": {},
   "source": [
    "In this exploration of the UK used-car market, we aimed to provide actionable insights for anyone interested in understanding how economic and environmental factors interact with the market, as well as specfically helping our friend to sell his car. \n",
    "\n",
    "**1. ALL: UK Used Cars & Economic Influence** <br>\n",
    "Beginning with high-level data, we examined economic indicators such as unemployment rates and the Consumer Prices Index including Housing (CPIH) in relation to car sales volumes, specifically analyzing the periods around 2015 and 2020. Our analysis revealed a negative correlation between unemployment rates and the used car CPIH, while the general CPIH positively correlates with the used car CPIH, highlighting the interplay between economic conditions and market behavior.\n",
    "\n",
    "**2. SAMPLE: UK Used Cars** <br>\n",
    "We further segmented the UK used-car market into three price clusters—lower, mid, and upper segments. Notably, the Volkswagen Golf, a mid-segment car, emerged as a key focus of our research. In addition to that we can see the average prices of other car makes and their average mileages which enables our friend to see where his VW Golf is located within the market. By analyzing price-to-mileage ratios across all cars, we observed that most vehicles have a price/mileage index between 0 and 2, offering a benchmark for evaluating a fair market price. \n",
    "\n",
    "**3. GOLF: Environmental Factors of VW Golf CO2 Emissions** <br>\n",
    "Diving deeper to the specific case of our friend's VW Golf, we identified key factors influencing car prices: CO2 emissions, annual tax, and the car’s manufacturing year were positively correlated with price, whereas mileage had a significant negative impact. This shows that our friend should be mostly concerned about the mentioned features as they are the most crucial when it comes to a selling price. Synthesizing insights from both high-level economic data and granular vehicle-specific data, we provided a tailored tipps and facts to keep in mind for our friend selling his Volkswagen Golf. Based on the car’s attributes and our regression analysis (based on other VW Golfs from 2015 to 2020), we estimate its market value to be approximately £19,077. \n",
    "\n",
    "**4. Limitations and Improvements** <br>\n",
    "Looking ahead, future analyses could be enriched by incorporating more comprehensive emissions data beyond CO2, and including location and time-of-sale variables in used-car market data. These additions would provide deeper context and allow for even more robust predictive modeling. By combining multiple data sources and employing statistical and machine learning techniques, we have not only offered a potential sales price but also demonstrated how data-driven insights can empower sellers to make informed decisions in the used-car market."
   ]
  }
 ],
 "metadata": {
  "kernelspec": {
   "display_name": "Python 3 (ipykernel)",
   "language": "python",
   "name": "python3"
  },
  "language_info": {
   "codemirror_mode": {
    "name": "ipython",
    "version": 3
   },
   "file_extension": ".py",
   "mimetype": "text/x-python",
   "name": "python",
   "nbconvert_exporter": "python",
   "pygments_lexer": "ipython3",
   "version": "3.12.7"
  }
 },
 "nbformat": 4,
 "nbformat_minor": 5
}
